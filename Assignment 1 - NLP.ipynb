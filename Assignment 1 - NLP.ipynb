{
 "cells": [
  {
   "cell_type": "code",
   "execution_count": 8,
   "metadata": {
    "collapsed": true
   },
   "outputs": [],
   "source": [
    "import matplotlib.pyplot as plt\n",
    "import matplotlib\n",
    "from collections import Counter\n",
    "%matplotlib inline\n",
    "from collections import *\n",
    "from random import random\n",
    "import nltk, re, pprint\n",
    "from nltk import word_tokenize, sent_tokenize\n",
    "from collections import Counter\n",
    "import numpy as np\n",
    "import re\n",
    "from nltk.probability import FreqDist"
   ]
  },
  {
   "cell_type": "markdown",
   "metadata": {},
   "source": [
    "# Assignment 1: \n",
    "# Topics in Natural Language Processing (202-2-5381) Fall 2018\n",
    "# Prof. Michael Elhadad\n",
    "\n",
    "### Author: Dina Svetlitsky\n",
    "\n",
    "[Assignment description](https://www.cs.bgu.ac.il/~elhadad/nlp18/hw1.html)"
   ]
  },
  {
   "cell_type": "markdown",
   "metadata": {},
   "source": [
    "## Part 1: Language Models"
   ]
  },
  {
   "cell_type": "markdown",
   "metadata": {},
   "source": [
    "In this part, we will develop two language models and evaluate the performance of the models."
   ]
  },
  {
   "cell_type": "markdown",
   "metadata": {},
   "source": [
    "### 1.1 Data Exploration"
   ]
  },
  {
   "cell_type": "markdown",
   "metadata": {},
   "source": [
    "#### 1.1.1 Gathering and Cleaning Up Data"
   ]
  },
  {
   "cell_type": "markdown",
   "metadata": {},
   "source": [
    "First, lets get some data (the book War and Peace be Leo Tolstoy, which I downloaded from Project Gutenberg):"
   ]
  },
  {
   "cell_type": "code",
   "execution_count": 9,
   "metadata": {
    "collapsed": true
   },
   "outputs": [],
   "source": [
    "input_text_file = open(\"war_and_peace.txt\", \"r\", encoding=\"utf8\")\n",
    "text = input_text_file.read()"
   ]
  },
  {
   "cell_type": "markdown",
   "metadata": {},
   "source": [
    "A quick peek into the text:"
   ]
  },
  {
   "cell_type": "code",
   "execution_count": 10,
   "metadata": {
    "scrolled": false
   },
   "outputs": [
    {
     "data": {
      "text/plain": [
       "'ubt my ability before such an audience,” said he,\\nsmilingly inclining his head.\\n\\nThe princess rested her bare round arm on a little table and considered\\na reply unnecessary. She smilingly waited. All the time the story was\\nbeing told she sat upright, glancing now at her beautiful round arm,\\naltered in shape by its pressure on the table, now at her still more\\nbeautiful bosom, on which she readjusted a diamond necklace. From time\\nto time she smoothed the folds of her dress, and whenever the story\\nproduced an effect she glanced at Anna Pávlovna, at once adopted just\\nthe expression she saw on the maid of honor’s face, and again relapsed\\ninto her radiant smile.\\n\\nThe little princess had also left the tea table and followed Hélène.\\n\\n“Wait a moment, I’ll get my work.... Now then, what are you\\nthinking of?” she went on, turning to Prince Hippolyte. “Fetch me my\\nworkbag.”\\n\\nThere was a general movement as the princess, smiling and talking\\nmerrily to everyone at once, sat down and gaily arranged h'"
      ]
     },
     "execution_count": 10,
     "metadata": {},
     "output_type": "execute_result"
    }
   ],
   "source": [
    "text[30000:31000]"
   ]
  },
  {
   "cell_type": "markdown",
   "metadata": {},
   "source": [
    "Replace wierd quotation or apostrophe:"
   ]
  },
  {
   "cell_type": "code",
   "execution_count": 11,
   "metadata": {},
   "outputs": [
    {
     "name": "stdout",
     "output_type": "stream",
     "text": [
      "he said: \"don't\"\n"
     ]
    }
   ],
   "source": [
    "s = \"he said: “don‘t”\"\n",
    "s = re.sub(\"‘|’\", \"\\'\", s)\n",
    "s = re.sub(\"“|”\", '\\\"', s)\n",
    "print(s)"
   ]
  },
  {
   "cell_type": "code",
   "execution_count": 12,
   "metadata": {},
   "outputs": [
    {
     "data": {
      "text/plain": [
       "'ubt my ability before such an audience,\" said he,\\nsmilingly inclining his head.\\n\\nThe princess rested her bare round arm on a little table and considered\\na reply unnecessary. She smilingly waited. All the time the story was\\nbeing told she sat upright, glancing now at her beautiful round arm,\\naltered in shape by its pressure on the table, now at her still more\\nbeautiful bosom, on which she readjusted a diamond necklace. From time\\nto time she smoothed the folds of her dress, and whenever the story\\nproduced an effect she glanced at Anna Pávlovna, at once adopted just\\nthe expression she saw on the maid of honor\\'s face, and again relapsed\\ninto her radiant smile.\\n\\nThe little princess had also left the tea table and followed Hélène.\\n\\n\"Wait a moment, I\\'ll get my work.... Now then, what are you\\nthinking of?\" she went on, turning to Prince Hippolyte. \"Fetch me my\\nworkbag.\"\\n\\nThere was a general movement as the princess, smiling and talking\\nmerrily to everyone at once, sat down and gaily arranged h'"
      ]
     },
     "execution_count": 12,
     "metadata": {},
     "output_type": "execute_result"
    }
   ],
   "source": [
    "text = re.sub(\"‘|’\", \"\\'\", text)\n",
    "text = re.sub(\"“|”\", '\\\"', text)\n",
    "text = re.sub(\"``\", \"''\", text)\n",
    "\n",
    "text[30000:31000]"
   ]
  },
  {
   "cell_type": "markdown",
   "metadata": {},
   "source": [
    "word_tokenize is a helpful function for text tokenization:"
   ]
  },
  {
   "cell_type": "code",
   "execution_count": 13,
   "metadata": {
    "collapsed": true
   },
   "outputs": [],
   "source": [
    "tokens = word_tokenize(text)"
   ]
  },
  {
   "cell_type": "markdown",
   "metadata": {},
   "source": [
    "How many tokens do we have?"
   ]
  },
  {
   "cell_type": "code",
   "execution_count": 14,
   "metadata": {
    "scrolled": true
   },
   "outputs": [
    {
     "data": {
      "text/plain": [
       "668651"
      ]
     },
     "execution_count": 14,
     "metadata": {},
     "output_type": "execute_result"
    }
   ],
   "source": [
    "len(tokens)"
   ]
  },
  {
   "cell_type": "markdown",
   "metadata": {},
   "source": [
    "Lets look at the first few tokens:"
   ]
  },
  {
   "cell_type": "code",
   "execution_count": 15,
   "metadata": {
    "scrolled": true
   },
   "outputs": [
    {
     "data": {
      "text/plain": [
       "['\\ufeff',\n",
       " 'The',\n",
       " 'Project',\n",
       " 'Gutenberg',\n",
       " 'EBook',\n",
       " 'of',\n",
       " 'War',\n",
       " 'and',\n",
       " 'Peace',\n",
       " ',']"
      ]
     },
     "execution_count": 15,
     "metadata": {},
     "output_type": "execute_result"
    }
   ],
   "source": [
    "tokens[:10]"
   ]
  },
  {
   "cell_type": "markdown",
   "metadata": {},
   "source": [
    "It is pretty good, but we want to get rid of punctuations and tokens in lower case:"
   ]
  },
  {
   "cell_type": "code",
   "execution_count": 16,
   "metadata": {
    "collapsed": true
   },
   "outputs": [],
   "source": [
    "PUNCTUATION = r\"...?!:;--()[]\\''\\\",``\"\n",
    "tokens = [token.lower() for token in tokens if token not in PUNCTUATION]"
   ]
  },
  {
   "cell_type": "markdown",
   "metadata": {},
   "source": [
    "Now we have less tokens:"
   ]
  },
  {
   "cell_type": "code",
   "execution_count": 17,
   "metadata": {
    "scrolled": true
   },
   "outputs": [
    {
     "data": {
      "text/plain": [
       "572491"
      ]
     },
     "execution_count": 17,
     "metadata": {},
     "output_type": "execute_result"
    }
   ],
   "source": [
    "len(tokens)"
   ]
  },
  {
   "cell_type": "markdown",
   "metadata": {},
   "source": [
    "We can put our tokens in a Counter data structure, which will count occurrences of each token:"
   ]
  },
  {
   "cell_type": "code",
   "execution_count": 18,
   "metadata": {
    "collapsed": true
   },
   "outputs": [],
   "source": [
    "tokens_counter = Counter(tokens)"
   ]
  },
  {
   "cell_type": "markdown",
   "metadata": {},
   "source": [
    "How many distinct tokens do we have?"
   ]
  },
  {
   "cell_type": "code",
   "execution_count": 19,
   "metadata": {},
   "outputs": [
    {
     "data": {
      "text/plain": [
       "20519"
      ]
     },
     "execution_count": 19,
     "metadata": {},
     "output_type": "execute_result"
    }
   ],
   "source": [
    "len(tokens_counter)"
   ]
  },
  {
   "cell_type": "markdown",
   "metadata": {},
   "source": [
    "Now lets take just the 10,000 most commons tokens, we will use it in cleaning up the data:"
   ]
  },
  {
   "cell_type": "code",
   "execution_count": 20,
   "metadata": {
    "scrolled": true
   },
   "outputs": [
    {
     "data": {
      "text/plain": [
       "[('the', 34556),\n",
       " ('and', 22150),\n",
       " ('to', 16706),\n",
       " ('of', 14990),\n",
       " ('a', 10491),\n",
       " ('he', 9930),\n",
       " ('in', 8928),\n",
       " ('that', 8067),\n",
       " ('his', 7966),\n",
       " ('was', 7339)]"
      ]
     },
     "execution_count": 20,
     "metadata": {},
     "output_type": "execute_result"
    }
   ],
   "source": [
    "most_common_tokens = tokens_counter.most_common(10000)\n",
    "most_common_tokens[:10]"
   ]
  },
  {
   "cell_type": "markdown",
   "metadata": {},
   "source": [
    "Now, we want to seperate our text to sentences, and then each sentence to tokens. We can use nltk.sent_tokenize"
   ]
  },
  {
   "cell_type": "code",
   "execution_count": 21,
   "metadata": {
    "scrolled": false
   },
   "outputs": [
    {
     "data": {
      "text/plain": [
       "['\\ufeff',\n",
       " 'The',\n",
       " 'Project',\n",
       " 'Gutenberg',\n",
       " 'EBook',\n",
       " 'of',\n",
       " 'War',\n",
       " 'and',\n",
       " 'Peace',\n",
       " ',',\n",
       " 'by',\n",
       " 'Leo',\n",
       " 'Tolstoy',\n",
       " 'This',\n",
       " 'eBook',\n",
       " 'is',\n",
       " 'for',\n",
       " 'the',\n",
       " 'use',\n",
       " 'of',\n",
       " 'anyone',\n",
       " 'anywhere',\n",
       " 'at',\n",
       " 'no',\n",
       " 'cost',\n",
       " 'and',\n",
       " 'with',\n",
       " 'almost',\n",
       " 'no',\n",
       " 'restrictions',\n",
       " 'whatsoever',\n",
       " '.']"
      ]
     },
     "execution_count": 21,
     "metadata": {},
     "output_type": "execute_result"
    }
   ],
   "source": [
    "sents = nltk.sent_tokenize(text)\n",
    "sents = [word_tokenize(sent) for sent in sents]\n",
    "sents[0]"
   ]
  },
  {
   "cell_type": "markdown",
   "metadata": {},
   "source": [
    "We also want to mark numbers as 'N':"
   ]
  },
  {
   "cell_type": "code",
   "execution_count": 22,
   "metadata": {
    "scrolled": true
   },
   "outputs": [
    {
     "name": "stdout",
     "output_type": "stream",
     "text": [
      "N\n",
      "N\n"
     ]
    }
   ],
   "source": [
    "NUMBERS = '0123456789'\n",
    "n1 = \"123\"\n",
    "n2 = \"800.7655\"\n",
    "print(re.sub('\\d+\\.\\d+|\\d+', 'N', n1))\n",
    "print(re.sub('\\d+\\.\\d+|\\d+', 'N', n2))"
   ]
  },
  {
   "cell_type": "markdown",
   "metadata": {},
   "source": [
    "All good. Now we will do everything we have done above, using a general function:"
   ]
  },
  {
   "cell_type": "code",
   "execution_count": 23,
   "metadata": {
    "collapsed": true
   },
   "outputs": [],
   "source": [
    "def sent_transformation(sent, most_common_tokens_set):\n",
    "    \"\"\"gets a tokenized sentence and returns a cleaned concatanated sentance\"\"\"\n",
    "    cleaned_sentence = []\n",
    "    for token in sent:\n",
    "        if token not in PUNCTUATION:\n",
    "            token = token.lower()\n",
    "            if re.search('\\d', token):\n",
    "                token = re.sub('\\d+\\.\\d+|\\d+', 'N', token)#replace numbers with 'N'\n",
    "            else:\n",
    "                if token not in most_common_tokens_set:\n",
    "                    token = \"<unk>\"\n",
    "            cleaned_sentence.append(token)\n",
    "    return \" \".join(cleaned_sentence)"
   ]
  },
  {
   "cell_type": "markdown",
   "metadata": {},
   "source": [
    "Test our sent_transformation"
   ]
  },
  {
   "cell_type": "code",
   "execution_count": 24,
   "metadata": {},
   "outputs": [
    {
     "name": "stdout",
     "output_type": "stream",
     "text": [
      "['Buonapartes', '.', 'But', 'I', 'warn', 'you', ',', 'if', 'you', 'do', \"n't\", 'tell', 'me', 'that', 'this', 'means', 'war', '.']\n"
     ]
    },
    {
     "data": {
      "text/plain": [
       "\"<unk> but i warn you if you do n't tell me that this means war\""
      ]
     },
     "execution_count": 24,
     "metadata": {},
     "output_type": "execute_result"
    }
   ],
   "source": [
    "sent = \"Buonapartes. But I warn you, if you don't tell me that this means war.\"\n",
    "print(word_tokenize(sent))\n",
    "sent_transformation(word_tokenize(sent), set([item[0] for item in most_common_tokens]))"
   ]
  },
  {
   "cell_type": "code",
   "execution_count": 25,
   "metadata": {
    "collapsed": true
   },
   "outputs": [],
   "source": [
    "def get_common_tokens_set(text, top):\n",
    "    \"\"\"tokenized text to lowercase tokens without punctuations, returns a set of the top most common tokens\"\"\"\n",
    "    tokens = word_tokenize(text)\n",
    "    tokens = [token.lower() for token in tokens if token not in PUNCTUATION]#remove punctuation and lowecase\n",
    "    tokens_counter = Counter(tokens)\n",
    "    most_common_tokens = tokens_counter.most_common(top)\n",
    "    \n",
    "    return set([item[0] for item in most_common_tokens])"
   ]
  },
  {
   "cell_type": "code",
   "execution_count": 26,
   "metadata": {
    "collapsed": true
   },
   "outputs": [],
   "source": [
    "def process_file(filename, top):\n",
    "    input_text_file = open(filename, \"r\", encoding=\"utf8\")\n",
    "    text = input_text_file.read()\n",
    "    \n",
    "    common_tokens_set = get_common_tokens_set(text, top)\n",
    "    \n",
    "    sents = nltk.sent_tokenize(text)\n",
    "    sents = [word_tokenize(sent) for sent in sents]\n",
    "    \n",
    "    output_file = open(filename+\".out\", \"w\", encoding=\"utf8\")\n",
    "    for sent in sents:\n",
    "        output_file.write(sent_transformation(sent, common_tokens_set) + \"\\n\")\n",
    "    output_file.close()"
   ]
  },
  {
   "cell_type": "markdown",
   "metadata": {},
   "source": [
    "ptb_preprocess takes a list of filenames and for each file dataset:\n",
    "- Keeps only the top most frequent words in the dataset\n",
    "- Replaces all numbers by the token N\n",
    "- Tokenizes the words\n",
    "- Removes all punctuations\n",
    "- Segments the sentencess and prints them one by line\n",
    "- Outputs all the text in lowercase"
   ]
  },
  {
   "cell_type": "code",
   "execution_count": 27,
   "metadata": {
    "collapsed": true
   },
   "outputs": [],
   "source": [
    "def ptb_preprocess(filenames, top=10000):\n",
    "    for filename in filenames:\n",
    "        process_file(filename, top)"
   ]
  },
  {
   "cell_type": "code",
   "execution_count": 28,
   "metadata": {
    "collapsed": true
   },
   "outputs": [],
   "source": [
    "ptb_preprocess([\"war_and_peace.txt\"])"
   ]
  },
  {
   "cell_type": "markdown",
   "metadata": {},
   "source": [
    "Lets look at some cleaned sentences from the file that was created:"
   ]
  },
  {
   "cell_type": "code",
   "execution_count": 29,
   "metadata": {},
   "outputs": [
    {
     "data": {
      "text/plain": [
       "['with these words she greeted prince vasíli kurágin a man of high rank and importance who was the first to arrive at her reception\\n',\n",
       " 'anna pávlovna had had a cough for some days\\n',\n",
       " 'she was as she said suffering from la grippe grippe being then a new word in st. petersburg used only by the <unk>\\n']"
      ]
     },
     "execution_count": 29,
     "metadata": {},
     "output_type": "execute_result"
    }
   ],
   "source": [
    "output_file = open(\"war_and_peace.txt.out\", \"r\", encoding=\"utf8\")\n",
    "text = output_file.readlines()\n",
    "text[5:8]"
   ]
  },
  {
   "cell_type": "markdown",
   "metadata": {},
   "source": [
    "Great!"
   ]
  },
  {
   "cell_type": "markdown",
   "metadata": {},
   "source": [
    "#### 1.1.2 Gathering Basic Statistics"
   ]
  },
  {
   "cell_type": "markdown",
   "metadata": {},
   "source": [
    "The Penn Tree Bank (PTB) dataset, which contains 929k training words, 73k validation words, and 82k test words, was peocessed by Tomas Mikolov in the same way as in part 1.1.2.\n",
    "\n",
    "We will get the train, validation and test data of words and characters."
   ]
  },
  {
   "cell_type": "markdown",
   "metadata": {},
   "source": [
    "Sentences data:"
   ]
  },
  {
   "cell_type": "code",
   "execution_count": 30,
   "metadata": {
    "collapsed": true
   },
   "outputs": [],
   "source": [
    "input_dataset_file_train = open(r\"penn_treebank\\data\\ptb.train.txt\", \"r\", encoding=\"utf8\")\n",
    "input_dataset_file_valid = open(r\"penn_treebank\\data\\ptb.valid.txt\", \"r\", encoding=\"utf8\")\n",
    "input_dataset_file_test = open(r\"penn_treebank\\data\\ptb.test.txt\", \"r\", encoding=\"utf8\")\n",
    "words_train_data = input_dataset_file_train.read()\n",
    "words_valid_data = input_dataset_file_valid.read()\n",
    "words_test_data = input_dataset_file_test.read()"
   ]
  },
  {
   "cell_type": "markdown",
   "metadata": {},
   "source": [
    "Characters data:"
   ]
  },
  {
   "cell_type": "code",
   "execution_count": 31,
   "metadata": {
    "collapsed": true
   },
   "outputs": [],
   "source": [
    "input_dataset_file_train = open(r\"penn_treebank\\data\\ptb.char.train.txt\", \"r\", encoding=\"utf8\")\n",
    "input_dataset_file_valid = open(r\"penn_treebank\\data\\ptb.char.valid.txt\", \"r\", encoding=\"utf8\")\n",
    "input_dataset_file_test = open(r\"penn_treebank\\data\\ptb.char.test.txt\", \"r\", encoding=\"utf8\")\n",
    "chars_train_data = input_dataset_file_train.read()\n",
    "chars_valid_data = input_dataset_file_valid.read()\n",
    "chars_test_data = input_dataset_file_test.read()"
   ]
  },
  {
   "cell_type": "markdown",
   "metadata": {},
   "source": [
    "Lets look at some sentences in the train dataset:"
   ]
  },
  {
   "cell_type": "code",
   "execution_count": 32,
   "metadata": {
    "scrolled": true
   },
   "outputs": [
    {
     "data": {
      "text/plain": [
       "[' aer banknote berlitz calloway centrust cluett fromstein gitano guterman hydro-quebec ipo kia memotec mlx nahb punts rake regatta rubens sim snack-food ssangyong swapo wachter ',\n",
       " ' pierre <unk> N years old will join the board as a nonexecutive director nov. N ',\n",
       " ' mr. <unk> is chairman of <unk> n.v. the dutch publishing group ']"
      ]
     },
     "execution_count": 32,
     "metadata": {},
     "output_type": "execute_result"
    }
   ],
   "source": [
    "sents = words_train_data.split(\"\\n\")\n",
    "sents[:3]"
   ]
  },
  {
   "cell_type": "markdown",
   "metadata": {},
   "source": [
    "And some tokens:"
   ]
  },
  {
   "cell_type": "code",
   "execution_count": 33,
   "metadata": {
    "scrolled": false
   },
   "outputs": [
    {
     "data": {
      "text/plain": [
       "['aer',\n",
       " 'banknote',\n",
       " 'berlitz',\n",
       " 'calloway',\n",
       " 'centrust',\n",
       " 'cluett',\n",
       " 'fromstein',\n",
       " 'gitano',\n",
       " 'guterman',\n",
       " 'hydro-quebec']"
      ]
     },
     "execution_count": 33,
     "metadata": {},
     "output_type": "execute_result"
    }
   ],
   "source": [
    "tokens = words_train_data.split()\n",
    "tokens[:10]"
   ]
  },
  {
   "cell_type": "markdown",
   "metadata": {},
   "source": [
    "First we gather statistics on words:"
   ]
  },
  {
   "cell_type": "markdown",
   "metadata": {},
   "source": [
    "Total number of tokens:"
   ]
  },
  {
   "cell_type": "code",
   "execution_count": 34,
   "metadata": {},
   "outputs": [
    {
     "data": {
      "text/plain": [
       "887521"
      ]
     },
     "execution_count": 34,
     "metadata": {},
     "output_type": "execute_result"
    }
   ],
   "source": [
    "len(tokens)"
   ]
  },
  {
   "cell_type": "code",
   "execution_count": 35,
   "metadata": {
    "collapsed": true
   },
   "outputs": [],
   "source": [
    "token_counter = Counter(tokens)"
   ]
  },
  {
   "cell_type": "markdown",
   "metadata": {},
   "source": [
    "Total number of distinct words:"
   ]
  },
  {
   "cell_type": "code",
   "execution_count": 36,
   "metadata": {},
   "outputs": [
    {
     "data": {
      "text/plain": [
       "9999"
      ]
     },
     "execution_count": 36,
     "metadata": {},
     "output_type": "execute_result"
    }
   ],
   "source": [
    "len(token_counter)"
   ]
  },
  {
   "cell_type": "markdown",
   "metadata": {},
   "source": [
    "token/word ratio:"
   ]
  },
  {
   "cell_type": "code",
   "execution_count": 37,
   "metadata": {},
   "outputs": [
    {
     "data": {
      "text/plain": [
       "88.76097609760976"
      ]
     },
     "execution_count": 37,
     "metadata": {},
     "output_type": "execute_result"
    }
   ],
   "source": [
    "len(tokens)/float(len(token_counter))"
   ]
  },
  {
   "cell_type": "markdown",
   "metadata": {},
   "source": [
    "Each token repeats 88 times on average"
   ]
  },
  {
   "cell_type": "code",
   "execution_count": 38,
   "metadata": {},
   "outputs": [
    {
     "data": {
      "text/plain": [
       "0.7821775484749093"
      ]
     },
     "execution_count": 38,
     "metadata": {},
     "output_type": "execute_result"
    }
   ],
   "source": [
    "sum([item[1] for item in token_counter.most_common(1000)])/float(len(tokens))"
   ]
  },
  {
   "cell_type": "markdown",
   "metadata": {},
   "source": [
    "1000 most frequent words correspond to almost 80% of the data"
   ]
  },
  {
   "cell_type": "markdown",
   "metadata": {},
   "source": [
    "Average number of characters per token:"
   ]
  },
  {
   "cell_type": "code",
   "execution_count": 39,
   "metadata": {
    "scrolled": true
   },
   "outputs": [
    {
     "data": {
      "text/plain": [
       "4.6533670752579379"
      ]
     },
     "execution_count": 39,
     "metadata": {},
     "output_type": "execute_result"
    }
   ],
   "source": [
    "np.average([len(token) for token in tokens])"
   ]
  },
  {
   "cell_type": "markdown",
   "metadata": {},
   "source": [
    "Standard deviation of number of charachters per token:"
   ]
  },
  {
   "cell_type": "code",
   "execution_count": 40,
   "metadata": {},
   "outputs": [
    {
     "data": {
      "text/plain": [
       "2.6019161500774306"
      ]
     },
     "execution_count": 40,
     "metadata": {},
     "output_type": "execute_result"
    }
   ],
   "source": [
    "np.std([len(token) for token in tokens])"
   ]
  },
  {
   "cell_type": "markdown",
   "metadata": {},
   "source": [
    "Now we will plot the number of distinct word ngrams:"
   ]
  },
  {
   "cell_type": "code",
   "execution_count": 41,
   "metadata": {
    "collapsed": true
   },
   "outputs": [],
   "source": [
    "def distinct_ngrams(tokens, n):\n",
    "    nmers = Counter()\n",
    "    for i in range(len(tokens)-n):\n",
    "        nmer = \" \".join(tokens[i:i+n])\n",
    "        nmers[nmer] += 1\n",
    "    return len(nmers)"
   ]
  },
  {
   "cell_type": "code",
   "execution_count": 42,
   "metadata": {},
   "outputs": [
    {
     "data": {
      "text/plain": [
       "<matplotlib.text.Text at 0x2ccf5a72048>"
      ]
     },
     "execution_count": 42,
     "metadata": {},
     "output_type": "execute_result"
    },
    {
     "data": {
      "image/png": "[encoded data removed]",
      "text/plain": [
       "<matplotlib.figure.Figure at 0x2ccf7b83fd0>"
      ]
     },
     "metadata": {},
     "output_type": "display_data"
    }
   ],
   "source": [
    "plt.bar([2,3,4], [distinct_ngrams(tokens, n) for n in [2,3,4]])\n",
    "plt.xlabel(\"n\")\n",
    "plt.ylabel(\"count\")"
   ]
  },
  {
   "cell_type": "markdown",
   "metadata": {},
   "source": [
    "What happens if we plot of the log-frequency of words against the log-rank of words?"
   ]
  },
  {
   "cell_type": "code",
   "execution_count": 43,
   "metadata": {},
   "outputs": [
    {
     "data": {
      "image/png": "[encoded data removed]",
      "text/plain": [
       "<matplotlib.figure.Figure at 0x2ccf7b83e10>"
      ]
     },
     "metadata": {},
     "output_type": "display_data"
    }
   ],
   "source": [
    "plt.loglog([val for word,val in token_counter.most_common(4000)])\n",
    "plt.xlabel('rank')\n",
    "plt.ylabel('frequency');"
   ]
  },
  {
   "cell_type": "markdown",
   "metadata": {},
   "source": [
    "The graph is almost linear! It seems that the word count distribution follows power law distribution. A few words occur a lot, many words occur rarely."
   ]
  },
  {
   "cell_type": "markdown",
   "metadata": {},
   "source": [
    "Some comparison between the train, valid datasets and the test dataset:"
   ]
  },
  {
   "cell_type": "code",
   "execution_count": 44,
   "metadata": {},
   "outputs": [
    {
     "data": {
      "text/plain": [
       "0"
      ]
     },
     "execution_count": 44,
     "metadata": {},
     "output_type": "execute_result"
    }
   ],
   "source": [
    "test_tokens = words_test_data.split()\n",
    "len(set(test_tokens)-set(tokens))"
   ]
  },
  {
   "cell_type": "code",
   "execution_count": 45,
   "metadata": {},
   "outputs": [
    {
     "data": {
      "text/plain": [
       "0"
      ]
     },
     "execution_count": 45,
     "metadata": {},
     "output_type": "execute_result"
    }
   ],
   "source": [
    "valid_tokens = words_valid_data.split()\n",
    "len(set(valid_tokens)-set(tokens))"
   ]
  },
  {
   "cell_type": "markdown",
   "metadata": {},
   "source": [
    "There are no unseen tokens in the test or validation dataset"
   ]
  },
  {
   "cell_type": "markdown",
   "metadata": {},
   "source": [
    "Total number of characters:"
   ]
  },
  {
   "cell_type": "code",
   "execution_count": 46,
   "metadata": {},
   "outputs": [
    {
     "data": {
      "text/plain": [
       "4975414"
      ]
     },
     "execution_count": 46,
     "metadata": {},
     "output_type": "execute_result"
    }
   ],
   "source": [
    "chars = chars_train_data.split()\n",
    "len(chars)"
   ]
  },
  {
   "cell_type": "markdown",
   "metadata": {},
   "source": [
    "Number of distinct character bigrams:"
   ]
  },
  {
   "cell_type": "code",
   "execution_count": 47,
   "metadata": {},
   "outputs": [
    {
     "data": {
      "text/plain": [
       "958"
      ]
     },
     "execution_count": 47,
     "metadata": {},
     "output_type": "execute_result"
    }
   ],
   "source": [
    "distinct_ngrams(chars, 2)"
   ]
  },
  {
   "cell_type": "code",
   "execution_count": 48,
   "metadata": {
    "scrolled": true
   },
   "outputs": [
    {
     "data": {
      "text/plain": [
       "<matplotlib.text.Text at 0x2ccf8d66da0>"
      ]
     },
     "execution_count": 48,
     "metadata": {},
     "output_type": "execute_result"
    },
    {
     "data": {
      "image/png": "[encoded data removed]",
      "text/plain": [
       "<matplotlib.figure.Figure at 0x2ccf8d6cfd0>"
      ]
     },
     "metadata": {},
     "output_type": "display_data"
    }
   ],
   "source": [
    "plt.bar([2, 3, 4, 5, 6, 7], [distinct_ngrams(chars, n) for n in [2, 3, 4, 5, 6, 7]])\n",
    "plt.xlabel(\"n\")\n",
    "plt.ylabel(\"count\")"
   ]
  },
  {
   "cell_type": "markdown",
   "metadata": {},
   "source": [
    "The number of distinct character 7-grams is similar the the number of distinct word n-grams."
   ]
  },
  {
   "cell_type": "code",
   "execution_count": 49,
   "metadata": {
    "collapsed": true
   },
   "outputs": [],
   "source": [
    "from nltk.probability import MLEProbDist"
   ]
  },
  {
   "cell_type": "markdown",
   "metadata": {},
   "source": [
    "### 1.2 n-gram Language Model"
   ]
  },
  {
   "cell_type": "markdown",
   "metadata": {},
   "source": [
    "In order to use an n-gram model, we need to store all distinct n-grams in memory. For each n-grams, the number of times it occurs.\n",
    "\n",
    "In the general case, all n-grams in the dataset could be distinct. Hence, if m is the number of tokens, there could be also m distinct 2,3,4...-grams (there are m starting points). So the worst case memory consumption, for m tokens, L average word length and an n-gram model is:\n",
    "mxnxL.\n",
    "\n",
    "In this dataset we have ~900,000 tokens, so the number of distinct n-grams could be 900,000xnxl.\n",
    "However, we can see that there are only 300,000 bi-grams, 600,000 tri-grams and 800,000 4-grams. Larger n increases the number of n-grams but it can't be more than 887,521 (number of tokens)."
   ]
  },
  {
   "cell_type": "code",
   "execution_count": 50,
   "metadata": {},
   "outputs": [
    {
     "data": {
      "text/plain": [
       "825370"
      ]
     },
     "execution_count": 50,
     "metadata": {},
     "output_type": "execute_result"
    }
   ],
   "source": [
    "distinct_ngrams(tokens, 5)"
   ]
  },
  {
   "cell_type": "code",
   "execution_count": 51,
   "metadata": {},
   "outputs": [
    {
     "data": {
      "text/plain": [
       "846671"
      ]
     },
     "execution_count": 51,
     "metadata": {},
     "output_type": "execute_result"
    }
   ],
   "source": [
    "distinct_ngrams(tokens, 6)"
   ]
  },
  {
   "cell_type": "markdown",
   "metadata": {},
   "source": [
    "And indeed we can see that the number of distinct ngrams converges to the number of tokens from n=4."
   ]
  },
  {
   "cell_type": "markdown",
   "metadata": {},
   "source": [
    "Now, let us build the model by simply counting all n-grams in text"
   ]
  },
  {
   "cell_type": "code",
   "execution_count": 52,
   "metadata": {
    "collapsed": true
   },
   "outputs": [],
   "source": [
    "def train_word_lm(sents, n=2):\n",
    "    \"constructs a word n-gram model given a dataset of sentences\"\n",
    "    counter = defaultdict(FreqDist)\n",
    "    for sent in sents:\n",
    "        pad = [\"~\" for x in range(n-1)]\n",
    "        sent = pad + sent + [\"~\"] #pad from both sided to mark start and end of sentence\n",
    "        for i in range(len(sent)-n+1):\n",
    "            history, word = \" \".join(sent[i:i+n-1]), sent[i+n-1]\n",
    "            counter[history][word] += 1\n",
    "    return counter    "
   ]
  },
  {
   "cell_type": "code",
   "execution_count": 53,
   "metadata": {
    "collapsed": true,
    "scrolled": true
   },
   "outputs": [],
   "source": [
    "sents_train = words_train_data.split(\"\\n\")\n",
    "sents_train = [sent.split() for sent in sents_train]\n",
    "lm = train_word_lm(sents_train, n=2)"
   ]
  },
  {
   "cell_type": "markdown",
   "metadata": {},
   "source": [
    "What do we get for the word 'burned'?"
   ]
  },
  {
   "cell_type": "code",
   "execution_count": 54,
   "metadata": {},
   "outputs": [
    {
     "data": {
      "text/plain": [
       "FreqDist({'a': 1,\n",
       "          'by': 1,\n",
       "          'if': 1,\n",
       "          'in': 1,\n",
       "          'investors': 1,\n",
       "          'on': 2,\n",
       "          'rand': 1,\n",
       "          'repeatedly': 1,\n",
       "          'when': 1,\n",
       "          '~': 1})"
      ]
     },
     "execution_count": 54,
     "metadata": {},
     "output_type": "execute_result"
    }
   ],
   "source": [
    "lm['burned']"
   ]
  },
  {
   "cell_type": "markdown",
   "metadata": {},
   "source": [
    "We get the number of times different words follow the word burned. But what is the frequenct of 'burned on' given 'burned'? "
   ]
  },
  {
   "cell_type": "code",
   "execution_count": 55,
   "metadata": {
    "scrolled": true
   },
   "outputs": [
    {
     "data": {
      "text/plain": [
       "0.18181818181818182"
      ]
     },
     "execution_count": 55,
     "metadata": {},
     "output_type": "execute_result"
    }
   ],
   "source": [
    "lm['burned'].freq('on')"
   ]
  },
  {
   "cell_type": "markdown",
   "metadata": {},
   "source": [
    "And the frequency of 'm given I?"
   ]
  },
  {
   "cell_type": "code",
   "execution_count": 56,
   "metadata": {
    "scrolled": true
   },
   "outputs": [
    {
     "data": {
      "text/plain": [
       "0.10380348652931855"
      ]
     },
     "execution_count": 56,
     "metadata": {},
     "output_type": "execute_result"
    }
   ],
   "source": [
    "lm['i'].freq('\\'m')"
   ]
  },
  {
   "cell_type": "markdown",
   "metadata": {},
   "source": [
    "For convenience, the method create_models creates all models from 1 to n. This will make it an easier job to evaluate models for different n values.  "
   ]
  },
  {
   "cell_type": "code",
   "execution_count": 57,
   "metadata": {
    "collapsed": true
   },
   "outputs": [],
   "source": [
    "def create_models(sents, n):\n",
    "    \"\"\"creates all models from 1 to n\"\"\"\n",
    "    single_word_fd = FreqDist([word for sent in sents for word in sent])\n",
    "    single_word_fd['~'] = len(sents) #number of times a sentence ends\n",
    "                            \n",
    "    models = {1:single_word_fd}\n",
    "    \n",
    "    for i in range(2, n+1):\n",
    "        lm = train_word_lm(sents, i)\n",
    "        models[i] = lm\n",
    "        \n",
    "    return models"
   ]
  },
  {
   "cell_type": "markdown",
   "metadata": {},
   "source": [
    "### 1.3 Language Model Evaluation"
   ]
  },
  {
   "cell_type": "markdown",
   "metadata": {},
   "source": [
    "In order to evaluate our model, we will calculate entropy and perplexity (which is simply 2^entropy) on the validation dataset.\n",
    "\n",
    "But before that, we need to 'fix' our model. What happens if a specific n-gram in the validation dataset was not seen in the training dataset? It will get a probability of 0 and it will not be possible to calculate entropy or perplexity. Therefore, we will need to use some 'smoothing' technique in order to solve this problem.\n",
    "\n",
    "The simplest smoothing technique is to add k to each ngram count (Lidstone smoothing). When k equals 1 this is the Laplace smoothing."
   ]
  },
  {
   "cell_type": "code",
   "execution_count": 58,
   "metadata": {
    "collapsed": true
   },
   "outputs": [],
   "source": [
    "def prob_MLE_addk_smoothing(history, word, n, models, k=1):\n",
    "    \"\"\"\n",
    "    Lidstone smoothing technique. Add k to each ngram count, seen and unseen.\n",
    "    Add |V|*k denominator for normalization.\n",
    "    When k=1 this is the Laplace smoothing\n",
    "    \"\"\"\n",
    "    model = models[n]\n",
    "    history_str = \" \".join(history)\n",
    "    \n",
    "    word_count = 0\n",
    "    history_count = 0\n",
    "    if n == 1:\n",
    "        word_count = model[word]\n",
    "        history_count = model.N()\n",
    "    else:\n",
    "        if history_str in model:\n",
    "            history_count = model[history_str].N()\n",
    "            if word in model[history_str]:\n",
    "                word_count = model[history_str][word]\n",
    "            \n",
    "    V = len(models[1])#number of types in the unigram model\n",
    "    prob = (word_count + k)/(history_count + (V*k))\n",
    "    \n",
    "    return prob"
   ]
  },
  {
   "cell_type": "markdown",
   "metadata": {},
   "source": [
    "Now for the caclulation of entropy and perplexity"
   ]
  },
  {
   "cell_type": "code",
   "execution_count": 59,
   "metadata": {
    "collapsed": true
   },
   "outputs": [],
   "source": [
    "from math import log\n",
    "def entropy(sents, n, models, prob_func, alpha=1):\n",
    "        \"\"\"\n",
    "        Calculate the approximate cross-entropy of the n-gram model for a\n",
    "        given evaluation sentences.\n",
    "        This is the average log probability of each word in the text.\n",
    "\n",
    "        :param sents: sentences of tokens to use for evaluation\n",
    "        :type sents: list(list(str))\n",
    "        :param n: the n of n-gram model\n",
    "        :param models: all models from 1 to n. Used for backoff purposes\n",
    "        :param prob_func: probability function to compute P(word|history)\n",
    "        :param alpha: hyperparameter\n",
    "        \"\"\"\n",
    "        \n",
    "        e = 0.0\n",
    "        N = 0\n",
    "        for sent in sents:\n",
    "            pad = [\"~\" for x in range(n-1)]\n",
    "            N += len(sent) + len(pad) #include the end of sent tokens to the total count\n",
    "            sent = pad + sent + pad\n",
    "            for i in range(len(sent)-n+1):\n",
    "                history, word = sent[i:i+n-1], sent[i+n-1]\n",
    "                prob = prob_func(history, word, n, models, alpha)\n",
    "                if prob != 0:\n",
    "                    e += log(prob, 2)\n",
    "        \n",
    "        return -e / N"
   ]
  },
  {
   "cell_type": "code",
   "execution_count": 60,
   "metadata": {
    "collapsed": true
   },
   "outputs": [],
   "source": [
    "def perplexity(sents, n, models, prob_func, alpha=1):\n",
    "    return 2**entropy(sents, n, models, prob_func, alpha)"
   ]
  },
  {
   "cell_type": "markdown",
   "metadata": {},
   "source": [
    "Now for the part of measuring our model:"
   ]
  },
  {
   "cell_type": "markdown",
   "metadata": {},
   "source": [
    "Is perplexity reduced when increasing n?"
   ]
  },
  {
   "cell_type": "code",
   "execution_count": 61,
   "metadata": {
    "collapsed": true
   },
   "outputs": [],
   "source": [
    "n = 7\n",
    "ngram_models = create_models(sents_train, n) #create all ngram models from 1 to n"
   ]
  },
  {
   "cell_type": "code",
   "execution_count": 62,
   "metadata": {
    "collapsed": true
   },
   "outputs": [],
   "source": [
    "def compute_perp_diff_models(n, sents, models, prob_func, alpha=1):\n",
    "    \"\"\"\n",
    "    compute perplexity for each ngram model from 2 to n\n",
    "    \"\"\"\n",
    "    perplexities = []\n",
    "\n",
    "    for i in range(2,n+1):\n",
    "        p = perplexity(sents, i, models, prob_func, alpha)\n",
    "        perplexities.append(p)\n",
    "        \n",
    "    return perplexities"
   ]
  },
  {
   "cell_type": "markdown",
   "metadata": {},
   "source": [
    "Let's observe the perplexity results on the validation dataset, using the Laplace smoothing (add 1 to each ngram count)"
   ]
  },
  {
   "cell_type": "code",
   "execution_count": 63,
   "metadata": {},
   "outputs": [
    {
     "data": {
      "text/plain": [
       "[854.5197234923078,\n",
       " 3283.2826549773554,\n",
       " 5437.201093406795,\n",
       " 6395.441836914597,\n",
       " 6785.036744201539,\n",
       " 6971.589331987894]"
      ]
     },
     "execution_count": 63,
     "metadata": {},
     "output_type": "execute_result"
    }
   ],
   "source": [
    "valid_tokens = [sent.split() for sent in words_valid_data.split(\"\\n\")] \n",
    "n = 7\n",
    "perplexities_valid_MLE_laplace_smoothing = compute_perp_diff_models(n, valid_tokens, ngram_models, prob_MLE_addk_smoothing)\n",
    "perplexities_valid_MLE_laplace_smoothing"
   ]
  },
  {
   "cell_type": "code",
   "execution_count": 64,
   "metadata": {},
   "outputs": [
    {
     "data": {
      "text/plain": [
       "<matplotlib.text.Text at 0x2ccf7bfc390>"
      ]
     },
     "execution_count": 64,
     "metadata": {},
     "output_type": "execute_result"
    },
    {
     "data": {
      "image/png": "[encoded data removed]",
      "text/plain": [
       "<matplotlib.figure.Figure at 0x2ccf7bf8080>"
      ]
     },
     "metadata": {},
     "output_type": "display_data"
    }
   ],
   "source": [
    "plt.plot(range(2,8), perplexities_valid_MLE_laplace_smoothing)\n",
    "plt.xlabel(\"n\")\n",
    "plt.ylabel(\"Perplexity\")"
   ]
  },
  {
   "cell_type": "markdown",
   "metadata": {},
   "source": [
    "The perplexity is ok for n=2, but it should be improved with larger ngram model and it doesn't.\n",
    "\n",
    "Maybe adding k<1 could improve that. We will try to improve perplexity on n=2. "
   ]
  },
  {
   "cell_type": "code",
   "execution_count": 65,
   "metadata": {},
   "outputs": [
    {
     "data": {
      "text/plain": [
       "[399.46742337770513,\n",
       " 481.4238597127433,\n",
       " 547.069482374209,\n",
       " 603.5264664100564,\n",
       " 653.8614059439122,\n",
       " 699.7286350257758,\n",
       " 742.143075784467,\n",
       " 781.7815304713514,\n",
       " 819.1225835710153]"
      ]
     },
     "execution_count": 65,
     "metadata": {},
     "output_type": "execute_result"
    }
   ],
   "source": [
    "valid_tokens = [sent.split() for sent in words_valid_data.split(\"\\n\")] \n",
    "n = 2\n",
    "perplexities_valid_MLE_addk_n2 = []\n",
    "for k in np.arange(0.1, 1.0, 0.1):\n",
    "    p = perplexity(valid_tokens, n, ngram_models, prob_MLE_addk_smoothing, k)\n",
    "    perplexities_valid_MLE_addk_n2.append(p)\n",
    "perplexities_valid_MLE_addk_n2"
   ]
  },
  {
   "cell_type": "code",
   "execution_count": 66,
   "metadata": {
    "scrolled": false
   },
   "outputs": [
    {
     "data": {
      "text/plain": [
       "<matplotlib.text.Text at 0x2cce39b2048>"
      ]
     },
     "execution_count": 66,
     "metadata": {},
     "output_type": "execute_result"
    },
    {
     "data": {
      "image/png": "[encoded data removed]",
      "text/plain": [
       "<matplotlib.figure.Figure at 0x2ccf7c06978>"
      ]
     },
     "metadata": {},
     "output_type": "display_data"
    }
   ],
   "source": [
    "plt.plot(np.arange(0.1, 1.0, 0.1), perplexities_valid_MLE_addk_n2)\n",
    "plt.xlabel(\"k\")\n",
    "plt.ylabel(\"Perplexity\")"
   ]
  },
  {
   "cell_type": "markdown",
   "metadata": {},
   "source": [
    "best result is achieved with k=0.1. Lets run again the add k smoothing when k=0.1 for different n values."
   ]
  },
  {
   "cell_type": "code",
   "execution_count": 67,
   "metadata": {
    "scrolled": true
   },
   "outputs": [
    {
     "data": {
      "text/plain": [
       "[399.46742337770513,\n",
       " 1682.285009191801,\n",
       " 3742.725919384281,\n",
       " 5029.421202042892,\n",
       " 5631.551100383158,\n",
       " 5933.2598196671]"
      ]
     },
     "execution_count": 67,
     "metadata": {},
     "output_type": "execute_result"
    }
   ],
   "source": [
    "valid_tokens = [sent.split() for sent in words_valid_data.split(\"\\n\")] \n",
    "n = 7\n",
    "perplexities_valid_MLE_addk_smoothing = compute_perp_diff_models(n, valid_tokens, ngram_models, prob_MLE_addk_smoothing, 0.1)\n",
    "perplexities_valid_MLE_addk_smoothing"
   ]
  },
  {
   "cell_type": "code",
   "execution_count": 68,
   "metadata": {},
   "outputs": [
    {
     "data": {
      "text/plain": [
       "<matplotlib.text.Text at 0x2ccf7c324e0>"
      ]
     },
     "execution_count": 68,
     "metadata": {},
     "output_type": "execute_result"
    },
    {
     "data": {
      "image/png": "[encoded data removed]",
      "text/plain": [
       "<matplotlib.figure.Figure at 0x2ccf7c02208>"
      ]
     },
     "metadata": {},
     "output_type": "display_data"
    }
   ],
   "source": [
    "plt.plot(range(2,8), perplexities_valid_MLE_addk_smoothing)\n",
    "plt.xlabel(\"n\")\n",
    "plt.ylabel(\"Perplexity\")"
   ]
  },
  {
   "cell_type": "markdown",
   "metadata": {},
   "source": [
    "Still, the best perplexity is for n=2.\n",
    "I think it happens because of the smoothing method we used, the add k smoothing underestimates P(word|history) when n grows. As n grows, there are more words that are not seen in the context of some long history. The more appropriate smoothing would be a backoff smoothing such as Katz backoff.\n",
    "\n",
    "Now it is time to test our model on the test dataset."
   ]
  },
  {
   "cell_type": "code",
   "execution_count": 69,
   "metadata": {
    "collapsed": true
   },
   "outputs": [],
   "source": [
    "test_tokens = [sent.split() for sent in words_test_data.split(\"\\n\")] "
   ]
  },
  {
   "cell_type": "code",
   "execution_count": 70,
   "metadata": {},
   "outputs": [
    {
     "data": {
      "text/plain": [
       "399.46742337770513"
      ]
     },
     "execution_count": 70,
     "metadata": {},
     "output_type": "execute_result"
    }
   ],
   "source": [
    "n=2\n",
    "k=0.1\n",
    "perplexity(valid_tokens, n, ngram_models, prob_MLE_addk_smoothing, k)"
   ]
  },
  {
   "cell_type": "markdown",
   "metadata": {},
   "source": [
    "The worst case perplexity is achieved for the uniform distribution, where there is 1/|V| chance for each word in the vocabulary V."
   ]
  },
  {
   "cell_type": "code",
   "execution_count": 71,
   "metadata": {
    "collapsed": true
   },
   "outputs": [],
   "source": [
    "def uniform_prob(history, word, n, models, alpha=1):\n",
    "    model = models[1]\n",
    "    \n",
    "    return 1/len(model)"
   ]
  },
  {
   "cell_type": "code",
   "execution_count": 73,
   "metadata": {},
   "outputs": [
    {
     "data": {
      "text/plain": [
       "10000.000000135005"
      ]
     },
     "execution_count": 73,
     "metadata": {},
     "output_type": "execute_result"
    }
   ],
   "source": [
    "n = 2\n",
    "perplexity(test_tokens, n, ngram_models, uniform_prob)"
   ]
  },
  {
   "cell_type": "markdown",
   "metadata": {},
   "source": [
    "As expected, this number coincides with the number of words in the dataset."
   ]
  },
  {
   "cell_type": "markdown",
   "metadata": {},
   "source": [
    "The paper [\"Breaking the softmax bottleneck: A high-rank RNN language model\"](https://arxiv.org/pdf/1711.03953.pdf) by Z. Yang et. al describes a new method to improve an RNN model. The authors compare the results to state of the art results in the last 5 years."
   ]
  },
  {
   "cell_type": "markdown",
   "metadata": {},
   "source": [
    "<img src=\"ptb_ppl_results.png\">"
   ]
  },
  {
   "cell_type": "markdown",
   "metadata": {},
   "source": [
    "The perplexity obtained using the language model I created is better than the worst case, but ~8 time worse than the best models."
   ]
  },
  {
   "cell_type": "markdown",
   "metadata": {},
   "source": [
    "In conclusion - Lidstone smoothing has poor results. Maybe because Lidstone smoothing moves too much probability mass to unkown events."
   ]
  },
  {
   "cell_type": "markdown",
   "metadata": {},
   "source": [
    "### 1.3.2 Generating Text from a Language Model"
   ]
  },
  {
   "cell_type": "markdown",
   "metadata": {},
   "source": [
    "Another way to evaluate a language model is to use the model in a generative manner."
   ]
  },
  {
   "cell_type": "markdown",
   "metadata": {},
   "source": [
    "Generating a word given the word 'burned' using Maximal Likelihood probability:"
   ]
  },
  {
   "cell_type": "code",
   "execution_count": 75,
   "metadata": {},
   "outputs": [
    {
     "data": {
      "text/plain": [
       "FreqDist({'a': 1,\n",
       "          'by': 1,\n",
       "          'if': 1,\n",
       "          'in': 1,\n",
       "          'investors': 1,\n",
       "          'on': 2,\n",
       "          'rand': 1,\n",
       "          'repeatedly': 1,\n",
       "          'when': 1,\n",
       "          '~': 1})"
      ]
     },
     "execution_count": 75,
     "metadata": {},
     "output_type": "execute_result"
    }
   ],
   "source": [
    "ngram_models[2]['burned']"
   ]
  },
  {
   "cell_type": "code",
   "execution_count": 76,
   "metadata": {},
   "outputs": [
    {
     "data": {
      "text/plain": [
       "'~'"
      ]
     },
     "execution_count": 76,
     "metadata": {},
     "output_type": "execute_result"
    }
   ],
   "source": [
    "MLEProbDist(ngram_models[2]['burned']).generate()"
   ]
  },
  {
   "cell_type": "markdown",
   "metadata": {},
   "source": [
    "In word generation, we can try to use 'stupid backoff' instead of Lidstone smoothing. If an n-gram is not found, we will try to look for an (n-1)-gram, (n-2)-gram and so on. Eventually we will reach the 1-gram model, and the probability couldn't be 0 as all words in the train data appear in the validation data.\n",
    "\n",
    "The probelm with this method is that the sum of probabilities will not be equal to 1, so entropy can't be measured. Anyway, lets see if it works in practice."
   ]
  },
  {
   "cell_type": "code",
   "execution_count": 77,
   "metadata": {
    "collapsed": true
   },
   "outputs": [],
   "source": [
    "def prob_stupid_backoff(history, word, n, models, alpha=1):\n",
    "    \"\"\"\n",
    "    If an n-gram is not found, we will try to look for an (n-1)-gram, (n-2)-gram and so on.\n",
    "    alpha can be used for normalization\n",
    "    \"\"\"\n",
    "    model = models[n]\n",
    "    \n",
    "    if n == 1:\n",
    "        return model.freq(word) #1-gram model is just the frequency of word\n",
    "    else:\n",
    "        history_str = \" \".join(history)\n",
    "        if history_str in model and word in model[history_str]:\n",
    "            return model[history_str].freq(word)\n",
    "        else:#back-off to shorter history\n",
    "            return prob_stupid_backoff(history[1:], word, n-1, models)*alpha"
   ]
  },
  {
   "cell_type": "code",
   "execution_count": 78,
   "metadata": {
    "collapsed": true
   },
   "outputs": [],
   "source": [
    "def generate_word(models, history, n):\n",
    "    '''\n",
    "    generates a word given history using MLE probability \n",
    "    if history is not found, back-off for shorter history\n",
    "    '''\n",
    "    history = history[-n+1:]\n",
    "    history_str = \" \".join(history)\n",
    "    \n",
    "    model = models[n]\n",
    "   \n",
    "    if n == 1:\n",
    "        return MLEProbDist(model[history_str]).generate()\n",
    "    else:\n",
    "        if model[history_str].N() > 0:\n",
    "            mle = MLEProbDist(model[history_str])\n",
    "            return mle.generate()\n",
    "        else:#back-off to shorter history\n",
    "            return generate_word(models, history[1:], n-1)"
   ]
  },
  {
   "cell_type": "markdown",
   "metadata": {},
   "source": [
    "The generation of words could stop after a perdefined number of words were created.\n",
    "\n",
    "I think that is is more wise to stop when as end of sentence token is generated"
   ]
  },
  {
   "cell_type": "code",
   "execution_count": 82,
   "metadata": {
    "collapsed": true
   },
   "outputs": [],
   "source": [
    "def generate_sent(models, seed, n):\n",
    "    \"\"\"\n",
    "    generates a sentence given a seed using ngram model models[n]\n",
    "    \"\"\"\n",
    "    history = seed\n",
    "    out = history\n",
    "    word = generate_word(models, history, n)\n",
    "    while word != \"~\": #keep generating words until an \"end of sentence\" mark\n",
    "        out.append(word)\n",
    "        word = generate_word(models, history, n)\n",
    "        history = history[-n+1:] + [word]\n",
    "    return \" \".join(out)"
   ]
  },
  {
   "cell_type": "code",
   "execution_count": 83,
   "metadata": {
    "collapsed": true
   },
   "outputs": [],
   "source": [
    "def generate(models, seed, n, num_of_sents):\n",
    "    \"\"\"\n",
    "    generate num_of_sents sentences using generate_sent\n",
    "    \"\"\"\n",
    "    text = \"\"\n",
    "    for i in range(num_of_sents):\n",
    "        sent = generate_sent(models, seed, n)\n",
    "        sent = sent.replace(\"~ \", \"\")\n",
    "        sent = sent[0].upper() + sent[1:] + \". \"\n",
    "        text = text + sent\n",
    "        seed = [\"~\" for x in range(n-1)]\n",
    "    return text"
   ]
  },
  {
   "cell_type": "markdown",
   "metadata": {},
   "source": [
    "Let's see how good our model is in generating sentences:"
   ]
  },
  {
   "cell_type": "code",
   "execution_count": 84,
   "metadata": {
    "scrolled": true
   },
   "outputs": [
    {
     "data": {
      "text/plain": [
       "\"I do n't provide structural damage at the N N the upper manhattan community <unk> frame that 's intent is seeking on thursday 's gains after all of the clean slate of the N N N N billion. The editor of $ N despite the network of <unk> the <unk> materials may be made a provision for example the same risk factors and <unk> or N higher on new <unk> added gross national over-the-counter trading is the markets more complex in the gain of <unk> subsidiaries. \""
      ]
     },
     "execution_count": 84,
     "metadata": {},
     "output_type": "execute_result"
    }
   ],
   "source": [
    "n=2\n",
    "generate(ngram_models, [\"i\"], n, 2)"
   ]
  },
  {
   "cell_type": "code",
   "execution_count": 86,
   "metadata": {},
   "outputs": [
    {
     "data": {
      "text/plain": [
       "\"Daniel 's annual sales so high above to N. <unk> formerly owners contend that level of obtaining or N N pieces of seats for individuals still stands people with banks to N in the world series bonds just get tougher for four years. \""
      ]
     },
     "execution_count": 86,
     "metadata": {},
     "output_type": "execute_result"
    }
   ],
   "source": [
    "generate(ngram_models, [\"~\"], n, 2)"
   ]
  },
  {
   "cell_type": "markdown",
   "metadata": {},
   "source": [
    "It doesn't makes much sense. What if we increase n?"
   ]
  },
  {
   "cell_type": "code",
   "execution_count": 87,
   "metadata": {},
   "outputs": [
    {
     "data": {
      "text/plain": [
       "'I am today. N develop rental agreements with reuters <unk> hill is for growth not just for the ninth inning of game four when <unk> earthquake damage may top $ N million respectively. '"
      ]
     },
     "execution_count": 87,
     "metadata": {},
     "output_type": "execute_result"
    }
   ],
   "source": [
    "n=3\n",
    "generate(ngram_models, [\"i\", \"am\"], n, 2)"
   ]
  },
  {
   "cell_type": "code",
   "execution_count": 88,
   "metadata": {},
   "outputs": [
    {
     "data": {
      "text/plain": [
       "\"He also noted an absence of <unk> stock-index futures or options. In fiscal N with the chinese government of spain 's nato commitment and in exchange for an <unk> issue of emissions that lead to further advance. \""
      ]
     },
     "execution_count": 88,
     "metadata": {},
     "output_type": "execute_result"
    }
   ],
   "source": [
    "n=3\n",
    "generate(ngram_models, [\"~\" for x in range(n-1)], n, 2)"
   ]
  },
  {
   "cell_type": "markdown",
   "metadata": {
    "collapsed": true
   },
   "source": [
    "Not bad, now for n=4:"
   ]
  },
  {
   "cell_type": "code",
   "execution_count": 89,
   "metadata": {},
   "outputs": [
    {
     "data": {
      "text/plain": [
       "\"He said chrysler fully expects to have them sent home instead. Nevertheless he noted no one will check to determine what the jurors ' attitudes are likely to mirror those mr. bush enacted shortly after the massacre. \""
      ]
     },
     "execution_count": 89,
     "metadata": {},
     "output_type": "execute_result"
    }
   ],
   "source": [
    "n=4\n",
    "generate(ngram_models, [\"~\" for x in range(n-1)], n, 2)"
   ]
  },
  {
   "cell_type": "code",
   "execution_count": 90,
   "metadata": {},
   "outputs": [
    {
     "data": {
      "text/plain": [
       "\"The company also changed its dividend policy under which holders had received an annual N <unk> payment by declaring a <unk> dividend to be paid quarterly on <unk> shares. According to the report completed last month if china 's trade gap continues to widen at the pace seen in the first seven months and the <unk> deficit widens to $ N billion and is set up to handle precisely the kind of emergency the state faces said tom <unk> the governor 's deputy press secretary. \""
      ]
     },
     "execution_count": 90,
     "metadata": {},
     "output_type": "execute_result"
    }
   ],
   "source": [
    "n=5\n",
    "generate(ngram_models, [\"~\" for x in range(n-1)], n, 2)"
   ]
  },
  {
   "cell_type": "code",
   "execution_count": 91,
   "metadata": {},
   "outputs": [
    {
     "data": {
      "text/plain": [
       "\"He believed colon cancer might also arise from multiple hits on cancer <unk> genes because it often seems to develop in stages. Democracy is making a return with a <unk> to latin america 's most <unk> and deeply <unk> country. \""
      ]
     },
     "execution_count": 91,
     "metadata": {},
     "output_type": "execute_result"
    }
   ],
   "source": [
    "n=6\n",
    "generate(ngram_models, [\"~\" for x in range(n-1)], n, 2)"
   ]
  },
  {
   "cell_type": "code",
   "execution_count": 94,
   "metadata": {},
   "outputs": [
    {
     "data": {
      "text/plain": [
       "\"Westinghouse 's own role as a supplier also is changing. Desperate he has called in the <unk> to help fight the rebels of the <unk> national movement in the north which is only one of several groups picking away at the regime in the capital of <unk>. \""
      ]
     },
     "execution_count": 94,
     "metadata": {},
     "output_type": "execute_result"
    }
   ],
   "source": [
    "n=7\n",
    "generate(ngram_models, [\"~\" for x in range(n-1)], n, 2)"
   ]
  },
  {
   "cell_type": "markdown",
   "metadata": {},
   "source": [
    "The sentences make more sense as n grows. But as n grows, there are less ngrams completions to choose from. For example:"
   ]
  },
  {
   "cell_type": "code",
   "execution_count": 97,
   "metadata": {},
   "outputs": [
    {
     "data": {
      "text/plain": [
       "FreqDist({'only': 1})"
      ]
     },
     "execution_count": 97,
     "metadata": {},
     "output_type": "execute_result"
    }
   ],
   "source": [
    "ngram_models[7][\"movement in the north which is\"]"
   ]
  },
  {
   "cell_type": "markdown",
   "metadata": {},
   "source": [
    "The 6-gram \"movement in the north which is\" can only be completed using the word 'only'"
   ]
  },
  {
   "cell_type": "markdown",
   "metadata": {},
   "source": [
    "It can be seen that there are quit a few unknowm words. The model could be changed to not generate unkown words.\n",
    "\n",
    "Currently, each sentence is independent of the other sentences. Another thing that can be changed is to create a dependency between the sentences."
   ]
  },
  {
   "cell_type": "markdown",
   "metadata": {
    "collapsed": true
   },
   "source": [
    "### 1.4 RNN language model"
   ]
  },
  {
   "cell_type": "markdown",
   "metadata": {},
   "source": [
    "#### [The Unreasonable Effectiveness of Recurrent Neural Networks](http://karpathy.github.io/2015/05/21/rnn-effectiveness/) summary\n"
   ]
  },
  {
   "cell_type": "markdown",
   "metadata": {},
   "source": [
    "Recurrent Neural Networks (RNNs) are useful because they allow us to operate over sequences of vectors (input, output or both). This article demonstrates the power of RNNs for creation of language models. \n",
    "\n",
    "The author trains RNN character-level language models, so that it allows him to generate new text one character at a time. Each character is encoded into a vector using 1-of-k encoding, standard Softmax classifier is used on every output vector simultaneously and the RNN is trained with mini-batch Stochastic Gradient Descent. At test time, he feeds a character into the RNN and get a distribution over what characters are likely to come next. \n",
    "\n",
    "Using this method, different text is generated using different datasets for training, such as Shakspear, Wikipedia, Baby names etc. The results are pretty impressive and amusing, and demonstrate the model is quite good at learning complex syntactic structures. \n",
    "\n",
    "At last, he tries to understand how does the model work. He looks at how the sampled text evolves while the model trains. At first the generated text is nonsense and gradually the model 'learns' the language. In addition, he looks at the predicted distributions over characters to find nuerons that are sensitive to a specific language feature."
   ]
  },
  {
   "cell_type": "markdown",
   "metadata": {},
   "source": [
    "#### [The unreasonable effectiveness of Character-level Language Models](http://nbviewer.jupyter.org/gist/yoavg/d76121dfde2618422139) summary"
   ]
  },
  {
   "cell_type": "markdown",
   "metadata": {},
   "source": [
    "This article presents an unsmoothed maximum-liklihood character level language model and shows it effectiveness at generating convincing natural language outputs. \n",
    "\n",
    "The author builds an n-gram model using the Maximum Likelihood estimates. This models gives the probabilty of a character c given some history h of n-1 characters (P(c|h)). Using a simple python code, he creates a language model and trains it on the text of Shakespears. To generate new text, a letter a time, he takes the history, looks at the last n-1 characters, and then samples a random letter based on the corresponding distribution. \n",
    "\n",
    "The author generates text based on different language-model orders (different value of n). For order 2, the generated text does not make sense. With an order of 4, the results are reasonable. Increasing the order to 7 (~word and a half of history) or 10 (~two short words of history) gets a quite passable Shakepearan text, just as good as the RNN model described in the previous article. \n",
    "\n",
    "Nevertheless, this simple model is not as good as the RNN for linux-kernel code generation, as it cannot model its structure only by looking at the last n-1 characters."
   ]
  },
  {
   "cell_type": "markdown",
   "metadata": {},
   "source": [
    "#### Character language model"
   ]
  },
  {
   "cell_type": "markdown",
   "metadata": {},
   "source": [
    "In this part we will create a character based language model, and train it on a recipes dataset."
   ]
  },
  {
   "cell_type": "markdown",
   "metadata": {},
   "source": [
    "First, we read all the recipes files, and split them to different recipes"
   ]
  },
  {
   "cell_type": "code",
   "execution_count": 1290,
   "metadata": {
    "collapsed": true
   },
   "outputs": [],
   "source": [
    "import os\n",
    "recipes = []\n",
    "for filename in os.listdir('recipes'):\n",
    "    input_text_file = open('recipes/'+filename, \"r\", encoding=\"utf8\", errors='ignore')\n",
    "    text = input_text_file.read()\n",
    "    text = text.split(\"MMMMM----- Recipe via Meal-Master (tm) v8.05\")\n",
    "    recipes = recipes + text[1:]\n",
    "    \n",
    "recipes = [recipe.replace(\"MMMMM\", \"\") for recipe in recipes]    "
   ]
  },
  {
   "cell_type": "markdown",
   "metadata": {},
   "source": [
    "How many recipes do we have?"
   ]
  },
  {
   "cell_type": "code",
   "execution_count": 1291,
   "metadata": {},
   "outputs": [
    {
     "data": {
      "text/plain": [
       "32963"
      ]
     },
     "execution_count": 1291,
     "metadata": {},
     "output_type": "execute_result"
    }
   ],
   "source": [
    "len(recipes)"
   ]
  },
  {
   "cell_type": "markdown",
   "metadata": {},
   "source": [
    "Now let's tokenize:"
   ]
  },
  {
   "cell_type": "code",
   "execution_count": 1294,
   "metadata": {
    "collapsed": true
   },
   "outputs": [],
   "source": [
    "recipes_tokenized = [word_tokenize(recipe) for recipe in recipes]\n",
    "tokens = [token.lower() for recipe in recipes_tokenized for token in recipe]"
   ]
  },
  {
   "cell_type": "code",
   "execution_count": 1295,
   "metadata": {},
   "outputs": [
    {
     "data": {
      "text/plain": [
       "['title',\n",
       " ':',\n",
       " '``',\n",
       " 'be',\n",
       " 'mine',\n",
       " \"''\",\n",
       " 'lollipops',\n",
       " 'categories',\n",
       " ':',\n",
       " 'candies']"
      ]
     },
     "execution_count": 1295,
     "metadata": {},
     "output_type": "execute_result"
    }
   ],
   "source": [
    "tokens[:10]"
   ]
  },
  {
   "cell_type": "markdown",
   "metadata": {},
   "source": [
    "I decided to keep all punctuations, they may be useful"
   ]
  },
  {
   "cell_type": "markdown",
   "metadata": {},
   "source": [
    "#### Gathering some statistics on the dataset"
   ]
  },
  {
   "cell_type": "markdown",
   "metadata": {},
   "source": [
    "Number of characters:"
   ]
  },
  {
   "cell_type": "code",
   "execution_count": 1296,
   "metadata": {
    "scrolled": true
   },
   "outputs": [
    {
     "data": {
      "text/plain": [
       "26551407"
      ]
     },
     "execution_count": 1296,
     "metadata": {},
     "output_type": "execute_result"
    }
   ],
   "source": [
    "sum([len(token) for token in tokens])"
   ]
  },
  {
   "cell_type": "code",
   "execution_count": 1297,
   "metadata": {
    "collapsed": true
   },
   "outputs": [],
   "source": [
    "vocabulary = Counter(tokens)"
   ]
  },
  {
   "cell_type": "code",
   "execution_count": 1298,
   "metadata": {
    "scrolled": true
   },
   "outputs": [
    {
     "data": {
      "text/plain": [
       "[('.', 358720),\n",
       " (',', 318203),\n",
       " ('--', 197642),\n",
       " ('and', 175811),\n",
       " ('the', 158348),\n",
       " (':', 145566),\n",
       " ('1', 140574),\n",
       " ('in', 100098),\n",
       " ('to', 93754),\n",
       " ('c', 90743)]"
      ]
     },
     "execution_count": 1298,
     "metadata": {},
     "output_type": "execute_result"
    }
   ],
   "source": [
    "vocabulary.most_common(10)"
   ]
  },
  {
   "cell_type": "markdown",
   "metadata": {},
   "source": [
    "Vocabulary size:"
   ]
  },
  {
   "cell_type": "code",
   "execution_count": 1299,
   "metadata": {},
   "outputs": [
    {
     "data": {
      "text/plain": [
       "70443"
      ]
     },
     "execution_count": 1299,
     "metadata": {},
     "output_type": "execute_result"
    }
   ],
   "source": [
    "len(vocabulary)"
   ]
  },
  {
   "cell_type": "code",
   "execution_count": 1300,
   "metadata": {
    "collapsed": true
   },
   "outputs": [],
   "source": [
    "words_per_recipe = Counter([len(recipe) for recipe in recipes_tokenized])"
   ]
  },
  {
   "cell_type": "markdown",
   "metadata": {},
   "source": [
    "Distribution of the size of recipes in words:"
   ]
  },
  {
   "cell_type": "code",
   "execution_count": 1301,
   "metadata": {
    "scrolled": true
   },
   "outputs": [
    {
     "data": {
      "text/plain": [
       "<matplotlib.text.Text at 0x14803dadc50>"
      ]
     },
     "execution_count": 1301,
     "metadata": {},
     "output_type": "execute_result"
    },
    {
     "data": {
      "image/png": "[encoded data removed]",
      "text/plain": [
       "<matplotlib.figure.Figure at 0x14803daf198>"
      ]
     },
     "metadata": {},
     "output_type": "display_data"
    }
   ],
   "source": [
    "plt.bar([item[0] for item in words_per_recipe.items()], [item[1] for item in words_per_recipe.items()])\n",
    "plt.xlabel(\"Number of words in a recipe\")\n",
    "plt.ylabel(\"Number of recipes\")"
   ]
  },
  {
   "cell_type": "markdown",
   "metadata": {},
   "source": [
    "Distribution of the size of recipes in characters:"
   ]
  },
  {
   "cell_type": "code",
   "execution_count": 1302,
   "metadata": {
    "collapsed": true
   },
   "outputs": [],
   "source": [
    "chars_per_recipe = Counter([len(recipe) for recipe in recipes])"
   ]
  },
  {
   "cell_type": "code",
   "execution_count": 1303,
   "metadata": {},
   "outputs": [
    {
     "data": {
      "text/plain": [
       "<matplotlib.text.Text at 0x1473b84cf60>"
      ]
     },
     "execution_count": 1303,
     "metadata": {},
     "output_type": "execute_result"
    },
    {
     "data": {
      "image/png": "[encoded data removed]",
      "text/plain": [
       "<matplotlib.figure.Figure at 0x1473b638860>"
      ]
     },
     "metadata": {},
     "output_type": "display_data"
    }
   ],
   "source": [
    "plt.bar([item[0] for item in chars_per_recipe.items()], [item[1] for item in chars_per_recipe.items()])\n",
    "plt.xlabel(\"Number of characters in a recipe\")\n",
    "plt.ylabel(\"Number of recipes\")"
   ]
  },
  {
   "cell_type": "code",
   "execution_count": 1185,
   "metadata": {
    "collapsed": true
   },
   "outputs": [],
   "source": [
    "len_per_word = Counter([len(word) for word in vocabulary])"
   ]
  },
  {
   "cell_type": "code",
   "execution_count": 1186,
   "metadata": {},
   "outputs": [
    {
     "data": {
      "text/plain": [
       "<matplotlib.text.Text at 0x146bd5d82b0>"
      ]
     },
     "execution_count": 1186,
     "metadata": {},
     "output_type": "execute_result"
    },
    {
     "data": {
      "image/png": "[encoded data removed]",
      "text/plain": [
       "<matplotlib.figure.Figure at 0x1476c4bd278>"
      ]
     },
     "metadata": {},
     "output_type": "display_data"
    }
   ],
   "source": [
    "plt.bar([item[0] for item in len_per_word.items()], [item[1] for item in len_per_word.items()])\n",
    "plt.xlabel(\"Number of characters in a word\")\n",
    "plt.ylabel(\"Number of words\")"
   ]
  },
  {
   "cell_type": "markdown",
   "metadata": {},
   "source": [
    "Average word length:"
   ]
  },
  {
   "cell_type": "code",
   "execution_count": 1188,
   "metadata": {},
   "outputs": [
    {
     "data": {
      "text/plain": [
       "7.7467313998552019"
      ]
     },
     "execution_count": 1188,
     "metadata": {},
     "output_type": "execute_result"
    }
   ],
   "source": [
    "np.average([len(word) for word in vocabulary])"
   ]
  },
  {
   "cell_type": "markdown",
   "metadata": {},
   "source": [
    "Standard deviation of word length:"
   ]
  },
  {
   "cell_type": "code",
   "execution_count": 1190,
   "metadata": {},
   "outputs": [
    {
     "data": {
      "text/plain": [
       "3.4825802607693266"
      ]
     },
     "execution_count": 1190,
     "metadata": {},
     "output_type": "execute_result"
    }
   ],
   "source": [
    "np.std([len(word) for word in vocabulary])"
   ]
  },
  {
   "cell_type": "code",
   "execution_count": 1390,
   "metadata": {
    "collapsed": true
   },
   "outputs": [],
   "source": [
    "char_vocabulary = Counter([ch for recipe in recipes for ch in recipe])"
   ]
  },
  {
   "cell_type": "code",
   "execution_count": 1391,
   "metadata": {},
   "outputs": [
    {
     "data": {
      "text/plain": [
       "Counter({'\\x00': 5,\n",
       "         '\\x02': 1,\n",
       "         '\\t': 300,\n",
       "         '\\n': 1126537,\n",
       "         '\\x0b': 1,\n",
       "         '\\x0c': 4,\n",
       "         '\\x14': 1165,\n",
       "         '\\x16': 1,\n",
       "         '\\x1d': 1,\n",
       "         ' ': 8798644,\n",
       "         '!': 3423,\n",
       "         '\"': 17401,\n",
       "         '#': 1789,\n",
       "         '$': 391,\n",
       "         '%': 3190,\n",
       "         '&': 14463,\n",
       "         \"'\": 16458,\n",
       "         '(': 41977,\n",
       "         ')': 41479,\n",
       "         '*': 18527,\n",
       "         '+': 9377,\n",
       "         ',': 319369,\n",
       "         '-': 494997,\n",
       "         '.': 395667,\n",
       "         '/': 134215,\n",
       "         '0': 65465,\n",
       "         '1': 317605,\n",
       "         '2': 184138,\n",
       "         '3': 85463,\n",
       "         '4': 94894,\n",
       "         '5': 53860,\n",
       "         '6': 32681,\n",
       "         '7': 13522,\n",
       "         '8': 28583,\n",
       "         '9': 26906,\n",
       "         ':': 148221,\n",
       "         ';': 55572,\n",
       "         '<': 1584,\n",
       "         '=': 14721,\n",
       "         '>': 2092,\n",
       "         '?': 488,\n",
       "         '@': 4391,\n",
       "         'A': 163433,\n",
       "         'B': 114324,\n",
       "         'C': 231292,\n",
       "         'D': 78070,\n",
       "         'E': 154820,\n",
       "         'F': 79106,\n",
       "         'G': 66430,\n",
       "         'H': 65526,\n",
       "         'I': 113068,\n",
       "         'J': 12580,\n",
       "         'K': 27943,\n",
       "         'L': 80582,\n",
       "         'M': 92479,\n",
       "         'N': 82691,\n",
       "         'O': 109690,\n",
       "         'P': 110484,\n",
       "         'Q': 3538,\n",
       "         'R': 125835,\n",
       "         'S': 244987,\n",
       "         'T': 155213,\n",
       "         'U': 46956,\n",
       "         'V': 26825,\n",
       "         'W': 46636,\n",
       "         'X': 4193,\n",
       "         'Y': 53421,\n",
       "         'Z': 4187,\n",
       "         '[': 2028,\n",
       "         '\\\\': 333,\n",
       "         ']': 2035,\n",
       "         '^': 261,\n",
       "         '_': 2138,\n",
       "         '`': 139,\n",
       "         'a': 1671233,\n",
       "         'b': 400736,\n",
       "         'c': 805895,\n",
       "         'd': 909035,\n",
       "         'e': 2738114,\n",
       "         'f': 342784,\n",
       "         'g': 561162,\n",
       "         'h': 763575,\n",
       "         'i': 1599291,\n",
       "         'j': 28210,\n",
       "         'k': 264501,\n",
       "         'l': 1101131,\n",
       "         'm': 517782,\n",
       "         'n': 1466660,\n",
       "         'o': 1636626,\n",
       "         'p': 565070,\n",
       "         'q': 22770,\n",
       "         'r': 1521732,\n",
       "         's': 1330941,\n",
       "         't': 1772918,\n",
       "         'u': 696299,\n",
       "         'v': 235612,\n",
       "         'w': 270179,\n",
       "         'x': 67472,\n",
       "         'y': 248044,\n",
       "         'z': 45889,\n",
       "         '{': 134,\n",
       "         '|': 373,\n",
       "         '}': 160,\n",
       "         '~': 4327,\n",
       "         '\\x7f': 27})"
      ]
     },
     "execution_count": 1391,
     "metadata": {},
     "output_type": "execute_result"
    }
   ],
   "source": [
    "char_vocabulary"
   ]
  },
  {
   "cell_type": "markdown",
   "metadata": {},
   "source": [
    "#### Training the character language model"
   ]
  },
  {
   "cell_type": "code",
   "execution_count": 1310,
   "metadata": {
    "collapsed": true
   },
   "outputs": [],
   "source": [
    "def split_dataset(recipes):\n",
    "    \"\"\"\n",
    "    Splits the dataset into 80% train, 10% validation and 10% test\n",
    "    \"\"\"\n",
    "    num_of_recipes = len(recipes)\n",
    "    permut_recipes = np.random.permutation(recipes)\n",
    "    train = permut_recipes[:int(num_of_recipes*0.8)]\n",
    "    valid = permut_recipes[int(num_of_recipes*0.8):int(num_of_recipes*0.9)]\n",
    "    test = permut_recipes[int(num_of_recipes*0.9):]\n",
    "    return train, valid, test"
   ]
  },
  {
   "cell_type": "code",
   "execution_count": 1311,
   "metadata": {
    "collapsed": true
   },
   "outputs": [],
   "source": [
    "train, valid, test = split_dataset(recipes)"
   ]
  },
  {
   "cell_type": "code",
   "execution_count": 1312,
   "metadata": {},
   "outputs": [
    {
     "data": {
      "text/plain": [
       "26370"
      ]
     },
     "execution_count": 1312,
     "metadata": {},
     "output_type": "execute_result"
    }
   ],
   "source": [
    "len(train)"
   ]
  },
  {
   "cell_type": "code",
   "execution_count": 1360,
   "metadata": {
    "scrolled": true
   },
   "outputs": [
    {
     "name": "stdout",
     "output_type": "stream",
     "text": [
      "\n",
      " \n",
      "      Title: BUTTERMILK BROWN SUGAR POUND CAKE\n",
      " Categories: Cakes\n",
      "      Yield: 12 Servings\n",
      " \n",
      "  2 1/2 c  All-purpose flour\n",
      "      1 ts Baking powder\n",
      "    1/2 ts Baking soda\n",
      "    1/8 ts Salt\n",
      "      1 c  Unsalted butter, at room\n",
      "           -temperature (2 sticks)\n",
      "      2 c  Firmly packed light brown\n",
      "           -sugar\n",
      "      3    Eggs\n",
      "      1 ts Vanilla\n",
      "    1/4 ts Anise extract\n",
      "      1 c  Buttermilk\n",
      "           Orange Marmalade (Optional)\n",
      "           Grated rind of one orange\n",
      "           -(Optional)\n",
      "    1/2 c  Plumped currants *\n",
      " \n",
      "  * NOTE:  To plump currants, cover with boiling water in a small cup\n",
      "  and let stand for 10 minutes.  Drain,\n",
      "  \n",
      "  Preheat the oven to Moderate (350F).  Grease a 10-inch tube pan. Line\n",
      "  the bottom with waxed paper.  Grease and dust with flour, tapping out\n",
      "  the excess.\n",
      "  \n",
      "  Stir together the flour, baking powder, baking soda, and salt in a\n",
      "  large bowl.  Beat the butter and brown sugar in another large bowl\n",
      "  for about 3 minutes, until light and fluffy, scraping down the sides\n",
      "  of the bowl as needed.\n",
      "  \n",
      "  Add the eggs, one at a time, beating for 1 minute after each\n",
      "  addition. Beat in the vanilla and anise extract. Reduce the mixer\n",
      "  speed to the lowest setting; add one-third of the flour mixture,\n",
      "  beating just until blended. Pour in 1/2 cup of the buttermilk,\n",
      "  beating until just combined. Repeat with the remaining flour mixture\n",
      "  and buttermilk, ending with the flour mixture. Fold in the orange\n",
      "  rind and the drained currants.\n",
      "  \n",
      "  Spoon the batter into the prepared pan.  Rotate the pan briskly to\n",
      "  even and settle the batter.  Bake for 60 to 65 minutes or until a\n",
      "  wooden pick inserted in the center comes out clean. Transfer the pan\n",
      "  to a rack and cool for 30 minutes.  Run a thin knife around the\n",
      "  inside of the pan and the tube.  Invert the cake onto the rack;\n",
      "  remove the waxed paper. Re-invert the cake. While still warm, brush\n",
      "  with orange marmalade and garnish with orange zest, if you wish. cool\n",
      "  to room temperature. Slice into 24 thin slices and serve\n",
      "        2    slices per serving. NOTE: The cake can be frozen airtight\n",
      "  for up to one month.\n",
      " \n",
      "\n",
      " \n",
      "\n"
     ]
    }
   ],
   "source": [
    "print(train[0])"
   ]
  },
  {
   "cell_type": "markdown",
   "metadata": {},
   "source": [
    "Now we will build a model that is very similar to the word model."
   ]
  },
  {
   "cell_type": "code",
   "execution_count": 1353,
   "metadata": {
    "collapsed": true
   },
   "outputs": [],
   "source": [
    "def train_char_lm_recipes(recipes, n=7):\n",
    "    \"\"\"\n",
    "    ngram model that counts the number of times the a chracter ch comes after n-1 chracters history\n",
    "    \"\"\"\n",
    "    lm = defaultdict(FreqDist)\n",
    "    for recipe in recipes:\n",
    "        pad = \"~\" * (n-1)\n",
    "        recipe = pad + recipe + \"~\"\n",
    "        for i in range(len(recipe)-n+1):\n",
    "            history, char = recipe[i:i+n-1], recipe[i+n-1]\n",
    "            lm[history][char]+=1\n",
    "    return lm"
   ]
  },
  {
   "cell_type": "markdown",
   "metadata": {},
   "source": [
    "#### Character language model evaluation\n"
   ]
  },
  {
   "cell_type": "markdown",
   "metadata": {},
   "source": [
    "As before, for perplexity computation we need smoothing, otherwise the perplexity will be infinity. We will use the add 1 smoothing."
   ]
  },
  {
   "cell_type": "code",
   "execution_count": 1392,
   "metadata": {
    "collapsed": true
   },
   "outputs": [],
   "source": [
    "def prob_MLE_addk_smoothing_chars(history, ch, n, model, k=1):\n",
    "    char_count = 0\n",
    "    history_count = 0\n",
    "    if n == 1:\n",
    "        char_count = model[ch]\n",
    "        history_count = model.N()\n",
    "    else:\n",
    "        if history in model:\n",
    "            history_count = model[history].N()\n",
    "            if ch in model[history]:\n",
    "                char_count = model[history][ch]\n",
    "            \n",
    "    V = len(char_vocabulary)\n",
    "    prob = (char_count + k)/(history_count + (V*k))\n",
    "    \n",
    "    return prob"
   ]
  },
  {
   "cell_type": "code",
   "execution_count": 1397,
   "metadata": {
    "collapsed": true
   },
   "outputs": [],
   "source": [
    "from math import log\n",
    "def entropy_chars(texts, n, model, prob_func, alpha=1):\n",
    "        \"\"\"\n",
    "        Calculate the approximate cross-entropy of the n-gram model for a\n",
    "        given evaluation texts.\n",
    "        This is the average log probability of each character in the text.\n",
    "\n",
    "        :param texts: texts for evaluation\n",
    "        :type sents: list(str)\n",
    "        :param n: the n of n-gram model\n",
    "        :param model: ngram model\n",
    "        :param prob_func: probability function to compute P(word|history)\n",
    "        :param alpha: hyperparameter\n",
    "        \"\"\"\n",
    "        \n",
    "        e = 0.0\n",
    "        N = 0\n",
    "        for text in texts:\n",
    "            pad = \"~\" *(n-1)\n",
    "            N += len(text) + 1 #include the end of sent tokens to the total count\n",
    "            text = pad + text + \"~\"\n",
    "            for i in range(len(text)-n+1):\n",
    "                history, ch = text[i:i+n-1], text[i+n-1]\n",
    "                prob = prob_func(history, ch, n, model, alpha)\n",
    "                e += log(prob, 2)\n",
    "        \n",
    "        return -e / N"
   ]
  },
  {
   "cell_type": "code",
   "execution_count": 1438,
   "metadata": {
    "collapsed": true
   },
   "outputs": [],
   "source": [
    "def perplexity_chars(texts, n, model, prob_func, alpha=1):\n",
    "    return 2**entropy_chars(texts, n, model, prob_func, alpha)"
   ]
  },
  {
   "cell_type": "markdown",
   "metadata": {},
   "source": [
    "Now we will train our model on the trainig data for n=5,7,10,12 and measure the perplexity"
   ]
  },
  {
   "cell_type": "code",
   "execution_count": 1399,
   "metadata": {
    "collapsed": true
   },
   "outputs": [],
   "source": [
    "char_models = {n:train_char_lm_recipes(train, n) for n in [5,7,10,12]}"
   ]
  },
  {
   "cell_type": "code",
   "execution_count": 1439,
   "metadata": {
    "collapsed": true
   },
   "outputs": [],
   "source": [
    "perplexities = []\n",
    "for n in [5,7,10,12]:\n",
    "    perplexities.append(perplexity_chars(valid, n, char_models[n], prob_MLE_addk_smoothing_chars, alpha=1))"
   ]
  },
  {
   "cell_type": "code",
   "execution_count": 1441,
   "metadata": {},
   "outputs": [
    {
     "data": {
      "text/plain": [
       "<matplotlib.text.Text at 0x149e8b37278>"
      ]
     },
     "execution_count": 1441,
     "metadata": {},
     "output_type": "execute_result"
    },
    {
     "data": {
      "image/png": "[encoded data removed]",
      "text/plain": [
       "<matplotlib.figure.Figure at 0x149e8b1c198>"
      ]
     },
     "metadata": {},
     "output_type": "display_data"
    }
   ],
   "source": [
    "plt.plot([5,7,10,12], perplexities)\n",
    "plt.xlabel(\"n\")\n",
    "plt.ylabel(\"Perplexity\")"
   ]
  },
  {
   "cell_type": "markdown",
   "metadata": {},
   "source": [
    "As can be seen by the plot, the perplexity grows as n grows. Again, like with the word model, I suspect this is because the smoothing underestimates P(char|history) when n grows (the length of history grows). More characters were not seen in the train dataset in the context of some history."
   ]
  },
  {
   "cell_type": "markdown",
   "metadata": {},
   "source": [
    "As perplexity is not helpful here, we will test our model by generating recipes for different n."
   ]
  },
  {
   "cell_type": "code",
   "execution_count": 1442,
   "metadata": {
    "collapsed": true
   },
   "outputs": [],
   "source": [
    "def generate_recipe(model, seed, n, num_of_chars=1000):\n",
    "    '''\n",
    "    generates a text given a seed using MLE probability\n",
    "    '''\n",
    "    history = seed\n",
    "    out = history\n",
    "  \n",
    "    ch = MLEProbDist(model[history]).generate()\n",
    "    i = 0\n",
    "    while ch != \"~\" or i<num_of_chars: #keep generating words until an \"end of recipe\" mark\n",
    "        out += ch\n",
    "        history = history[-n+2:] + ch\n",
    "        ch = MLEProbDist(model[history]).generate()\n",
    "        i += 1\n",
    "    return out"
   ]
  },
  {
   "cell_type": "code",
   "execution_count": 1433,
   "metadata": {},
   "outputs": [
    {
     "name": "stdout",
     "output_type": "stream",
     "text": [
      "~~~~\n",
      " \n",
      "  Cold Reductionalkalike notic\n",
      "     Title: FIR: 233 casses, oranges\n",
      "            1 tb Buttermission\n",
      "  oils. Carrots; brush the Dean's Soy saucepan\n",
      "  celerial, cornstand dill, and\n",
      "           -cubed, formulate flour. OR 15 minutes on each lettuce into and be chopped\n",
      "    1    2 ts Black skillet over med ingreased in a littles, 1 c  Butter\n",
      "  until give oil and with fruity (from head carbohydrate.\n",
      "    2 c  Brown\n",
      "       1 tb Worcested\n",
      "     1 1/2 c  Chopped and well. Skimming accompletely cracker cream rum\n",
      "  :    2/3 c  Water until egg sugar, salt. Put two bit margarine Yeasts up to 375F until\n",
      "         15 minutes.  Sliced\n",
      "  1/4 c  Chop thinner, grapefruits\n",
      "     2 c  Chopped\n",
      "       Title: FARINADE HEN\n",
      " Categories: Meats, or made (Nation\n",
      "     Sprinkle slightly for $12.9g (3%)\n",
      "         10 minutes turn the\n",
      "  TXFT40A@Prodigy, Inc. Electric blender. On high 6\n",
      "  heat oiler top. Margarinator\n",
      "    Yield: 18 g CHOCOLATE-ECLAIR. SPINACHED PANCAKE\n",
      " Categories on packer can hot with a\n",
      "  white, Continue cotta\n",
      " \n",
      "  1/2 c  Fine ground baking fruit up to 1 hour.\n",
      "  \n",
      "  Combine all-purpose flour\n",
      "    3/4-inch fruits: Meanwhiles in wedge from the dip again\n",
      "  cover fish oregano,\n",
      "  Beat until thicken too small very into the 1965.\n",
      "  \n",
      "  SEPARAGUS BREAD (EMERICAN SALAD-\n",
      "      -salt. Red with oil onion; chocolates. Pulse ash in hot reduce logs from heat buttermint; plain,drain warm place they minutes. Set aside. It is knob chopped onion and gelating: Pressing: Califormat butter\n",
      "     2 TBS cinnamon juice\n",
      "  in wok in\n",
      "     8 ea Cheese\n",
      "  stirring to cooking\n",
      "  reserve HOT\" CHAO WATER COLD WORCEMEAT\n",
      " Categories: Salads\" cookies or rice, Soups/stew or pound corn\n",
      "      1 c  Brown or margarinator broiler, melted 400 degreen Approx. 20 to picnic), or lined all skillet\n",
      "  remaining it, Aug 1996\n",
      "  Tasted onion, compote is alls. Loosen.  Recipes until hot over will ingreast\n",
      "     8 oz)\n",
      "    2 tb Butter\n",
      "     1/2 c  Dressing the lean.) Press uncover.\n",
      "  :       1/2 c  Cake-along sugar\n",
      "  minutes; the coriander.\n",
      " \n",
      "\n",
      " \n",
      "\n"
     ]
    }
   ],
   "source": [
    "n = 5\n",
    "generated_recipe = generate_recipe(char_models[n], \"~\"*(n-1), n)\n",
    "print(generated_recipe)"
   ]
  },
  {
   "cell_type": "code",
   "execution_count": 1402,
   "metadata": {
    "scrolled": true
   },
   "outputs": [
    {
     "name": "stdout",
     "output_type": "stream",
     "text": [
      "\n",
      "\n",
      "~~~~~~\n",
      " \n",
      "        Shredded cheese, sugar, and cook on high heat 5 minutes more. On\n",
      "  the hot water together use. Then push braid\n",
      "       Salt & peppers magazine, December, Dill, fresh rosemary\n",
      "       1    Shred the wine\n",
      "  then rolls at Home_.\n",
      "  \n",
      "  Serve piping\n",
      " \n",
      "  PREPARE ICING, in small pieces.\n",
      "  \n",
      "  Source: \"Great Good\"\n",
      "  Submitted\n",
      "  1 1/2 c  Unsalted butter or Mondadori Editor's favorite Recipe made in small butter\n",
      "       8 tb Sugar\n",
      "       or until smooth.\n",
      "  \n",
      "  *  The next day.  It is\n",
      "  tender. Remove from: * Oregon\n",
      "  Hazelnut Marketing Board\n",
      "      2 lg Onion; chopped crepe pan. Place in a saucepan and heat sauce\n",
      "    1/4 cup sugar and yeast into 8 servings\n",
      " \n",
      "       1    Eggs, well and add water; bake for the vanilla. Add apple as a medium\n",
      "        2 x  Sm Sweet pepper\n",
      "    1. Place chickened. Finely chopped fresh into julienne straw mushrooms and refrigerate in blended. Add spices\n",
      "        1    Jalapeno\n",
      "  in ham cut into 8 rectangle.\n",
      "  \n",
      "  Oven 5\n",
      "  minutes. Serve with an electric mixer till cup. Be\n",
      "  casserole and bake at 350 degrees. Spread the wild rice. Return to cover and bake for about 3\n",
      "          Title: CRYSTAL ALMO\"\n",
      "      3 c  Egg yolks until complete part of the\n",
      "  pottery gallon string. Fold\n",
      "  baking\n",
      "  the juice\n",
      "      Yield: 4 Servings\n",
      " \n",
      "       4 lg clove; minced jalapeno pepper towels, then pour into your\n",
      "      Yield: 8 Serving. 9. Serves 12-20.\n",
      "  \n",
      "  ^^^^^^^^\n",
      "      4 tb Olive oil\n",
      "      2 tb Vegetables in a plate or till smooth and some\n",
      "  diameter x 2 1/2-inch\n",
      "  spread when clean,\n",
      "  mustard mixture and\n",
      "  bring the skin and seasonings and milk and pour into dry onions) 95 cal; 10 g fat; or kosher, Cakes, Cocktail. Rinse pods, walnut Marketing Board, about 4\" in\n",
      "  pan. Add bacon, onion, finely chop\n",
      " \n",
      "  1. Mix with the\n",
      "      4    Dressing ingredients. Heat 2 minutes.\n",
      "  \n",
      "  Serve hot, cover and blended.\n",
      " \n",
      "\n",
      " \n",
      "\n"
     ]
    }
   ],
   "source": [
    "n = 7\n",
    "generated_recipe = generate_recipe(char_models[n], \"~\"*(n-1), n)\n",
    "print(generated_recipe)"
   ]
  },
  {
   "cell_type": "markdown",
   "metadata": {},
   "source": [
    "With n=5,7 the recipe doesn't look good. The structure is not as a recipe structure, the instructions come before the ingrediants, the sentences are messy."
   ]
  },
  {
   "cell_type": "code",
   "execution_count": 1413,
   "metadata": {
    "scrolled": true
   },
   "outputs": [
    {
     "name": "stdout",
     "output_type": "stream",
     "text": [
      "\n",
      "\n",
      "~~~~~~~~~\n",
      " \n",
      "      Title: HOLIDAY OATMEAL COOKIES\n",
      " Categories: Breads2, Brdmachine\n",
      "      2 tb Lemon Juices & Lemon Rind; Grated\n",
      "      1 c  Water\n",
      "             -chiles\n",
      "  cascabel 18 peppercorns, allspice. Warm\n",
      "  tortilla flour or wheat germ and powdered\n",
      " \n",
      "  Rub roast them lightly overlapping. Almond paste and corn syrup or honey.  Pour over the top is a nice brown\n",
      "  sugar would\n",
      "  other seasoning and pepper -- seeded and chopped\n",
      "       margarine\n",
      "      1 tb Wine vinegar\n",
      "     10 oz Grapefruit Halves\n",
      "         -dish 6 layers. Bake for 35 to 45 minutes. Cool\n",
      "  slightly closed jar. Use as much color of rice papers with fingers, to\n",
      "  make a little dollop of whipped cream mixture. Cook over medium\n",
      "  head. EYE PUFFINESS: Teabags, slightly.\n",
      "  Place peas, oil, beaten egg whites until meat thermometer. Stir chicken.\n",
      "  \n",
      "  You can use catsup, tomato paste.\n",
      "  \n",
      "  BLINTZES\n",
      " Categories: Vegetables are tender, brushing with a cover. Freeze 1/2 cup apple juice concentrate (e.g.\n",
      "  :       Georgetown, Delaware, 19947-9622\n",
      " \n",
      "\n",
      " \n",
      "\n"
     ]
    }
   ],
   "source": [
    "n = 10\n",
    "generated_recipe = generate_recipe(char_models[n], \"~\"*(n-1), n)\n",
    "print(generated_recipe)"
   ]
  },
  {
   "cell_type": "markdown",
   "metadata": {},
   "source": [
    "For n=10 it starts nicely, with title, categories and ingredients. After the instructions it seems that a new recipe description is created."
   ]
  },
  {
   "cell_type": "code",
   "execution_count": 1416,
   "metadata": {
    "scrolled": true
   },
   "outputs": [
    {
     "name": "stdout",
     "output_type": "stream",
     "text": [
      "\n",
      "\n",
      "~~~~~~~~~~~\n",
      " \n",
      "      Title: CORNSTICKS\n",
      " Categories: Meats\n",
      "      Yield: 1 Servings\n",
      " \n",
      "      1 tb Water\n",
      "      1    Egg\n",
      "     20    minutes.\n",
      "  \n",
      "  Add potatoes (about 2 minutes or until toothpick inserted in center comes out clean, about 300 degrees for 16 minutes, or until\n",
      "  it registers 160 degrees; otherwise,\n",
      "  cut into bite-sized pieces. Can use\n",
      "  leftovers here.\n",
      "  \n",
      "  *  All ingredients and process until smooth, thick frosting. Lay on plate\n",
      "  and ground beef chuck eye steaks\n",
      "      1 lb FRESH GREEN CHILE CHICKEN WITH SALT,\n",
      "  ROSEMARY - Used in fruit sugar.\n",
      "  Add 1/4 C Grand Marnier. Roll\n",
      "  into a measuring spoons, measuring\n",
      "  cup) and stir to coat well.\n",
      "    In medium bowl, with an electric mixer beat whites and water. Chill.  Serve hot.\n",
      " \n",
      "\n",
      " \n",
      "\n"
     ]
    }
   ],
   "source": [
    "n=12\n",
    "generated_recipe = generate_recipe(char_models[n], \"~\"*(n-1), n)\n",
    "print(generated_recipe)"
   ]
  },
  {
   "cell_type": "markdown",
   "metadata": {},
   "source": [
    "For n=12, this recipe looks like a real one. Let's generate some more."
   ]
  },
  {
   "cell_type": "code",
   "execution_count": 1417,
   "metadata": {
    "scrolled": true
   },
   "outputs": [
    {
     "name": "stdout",
     "output_type": "stream",
     "text": [
      "\n",
      "\n",
      "~~~~~~~~~~~\n",
      " \n",
      "      Title: CLASSIC FRENCH-STYLE BAKED CHICKEN CASSEROLE\n",
      " Categories: Cheese/eggs, Vegetables\n",
      "      Yield: 16 Servings\n",
      " \n",
      "     80 g  Plain bread crumbs\n",
      "    1/3 c  Curacao\n",
      " \n",
      "  Blend 1/2 minutes.\n",
      "  \n",
      "  Set a wok over high heat,\n",
      "  whisking constantly, for thirty days straight'.\"\n",
      "  \n",
      "  Storm has since honed her culinary purposes.  In common usage, the fruits with seeds of our choice;\n",
      "  sesame oil\n",
      "    1/2 c  Honey\n",
      "            White angel food cake pan to a\n",
      "  depth of 1/4\". It should rise to double, about 45 minutes.Transfer to a small bowl combine beef, pasta, artichoke leaves. In\n",
      "  a small cloth towel\n",
      "  to drain. Sprinkle grated cheese,\n",
      "             Cornstarch on a plate, pick an old one I have had the tips off the leaves finely. Heat half the bacon mixture, lifting\n",
      "  pan with butter, about 5 minutes.\n",
      "  \n",
      "  Glaze:  In saucepan, and put through\n",
      "  a large bowl until a rich brown solid pudding. Amaretto is also good, though not in use covered).\n",
      "  Spread rolled dough.\n",
      "  Set aside.\n",
      "  \n",
      "  TORTILLA CUPS: To make\n",
      "  gnocchi, pour flour onto a plate covered with plastic wrap;\n",
      "  refrigerator. 3.Whisk the eggs and vanilla.\n",
      "  \n",
      "  (I always find\n",
      "  contradictory as it may be necessary to create swirls with a tablespoon soy sauce\n",
      "      Yield: 2 Quarts\n",
      " \n",
      "      2 c  Minature marshmallows -- cut in pieces\n",
      "      2 ts Oregano\n",
      "    1/4 ts Ground nutmeg\n",
      "    1/4 ts EA:\n",
      "        1 ts Salt\n",
      "    1/2 ts Salt\n",
      "      2 tb Catsup\n",
      "    1/4 c  Sugar\n",
      "      4 tb Oil\n",
      "      2 ts Rice wine vinegar\n",
      "    1/3 c  Golden raisins\n",
      "      1/2 c  Barley\n",
      "     10 oz Cheddar;reduced fat\n",
      "      3 tb Finely chopped. Posted to rec.food.veg\n",
      " \n",
      "\n",
      " \n",
      "\n"
     ]
    }
   ],
   "source": [
    "n=12\n",
    "generated_recipe = generate_recipe(char_models[n], \"~\"*(n-1), n)\n",
    "print(generated_recipe)"
   ]
  },
  {
   "cell_type": "markdown",
   "metadata": {},
   "source": [
    "Again, the begining of the recipe looks nice. This is a very time consuming recipe since you have to \"whisk constanly, for thirty days straight\" :)\n",
    "\n",
    "The problem ia that a new recipe starts after the first one. We will change the generate function to stop when a stop token in encountered or when we reached a 1000 characters (the average length of a recipe)"
   ]
  },
  {
   "cell_type": "code",
   "execution_count": 1427,
   "metadata": {},
   "outputs": [
    {
     "name": "stdout",
     "output_type": "stream",
     "text": [
      "~~~~~~~~~~~\n",
      " \n",
      "      Title: BAKED ONIONS WITH CHEMICALS Although this torta is from Provence, its superb\n",
      "  blending into the container, combine\n",
      "      8 oz Self-raising flour\n",
      "      2 tb Butter or margarine and milk into egg halves. Put a small saucepan and bring to a boil over medium heat for 25 minutes. Place\n",
      "  rolls, point side down\n",
      "  on it with a grapefruit\n",
      "    1/2 c  Bisquick Baking Mix; Bisquick\n",
      "      1    Teaspoo salt\n",
      " \n",
      "   \"Chile pastes are very tender; remove pans. Cool completely melted and mixture into large bowl, combine\n",
      "  the tofu. Place the\n",
      "  sauce has simmered for 10 minutes.  Add the broccoli and mushroom sp\n",
      "    1/4 ts Salt\n",
      "      2 tb Thyme; minced\n",
      "      1 pt Canned corn; drained\n",
      "     In skillet, transfer to a blender and coarse salt. Set aside. TO PREPARE DIP: In small skillet over low heat until butter melts\n",
      "  and the peppers in large bowl, tossing just\n",
      "  to blend. Drizzle liberally over the countertop to room temperature before using. To blanch, cover with a damp cloth, being careful to separate the eggs whole until light brown.\n",
      "  \n",
      "  Tammie K Nakamura <nakamurt@UCSU.COLORADO.EDU>\n",
      "  \n",
      "  Individual ramekins three-quarters full.\n",
      "  In the remaining ingredients. On\n",
      "  a bread machine according to\n",
      "  dissolved. Leave to set, it\n",
      "  may be added if\n",
      "  necessary to prevent scorching.\n",
      "  \n",
      "  Select a large mixing bowl and sprinkle with 1 cup of the halibut into 1-inch chunks. Dredge the breastbone to\n",
      "  separated. That is how it is meant to remaining butter,\n",
      "           -crushed\n",
      "      1 cn SPAM Luncheon Meat (12 oz)\n",
      "      1    Red bell pepper, mixing until smooth. Add\n",
      "  chicken in 350 degree oven for 25 minutes, spray with\n",
      "  cooking for 20-to-30\n",
      "  minutes to reduce the heat.\n",
      "  \n",
      "  Whisk the egg whites to room temperatures. I have tried chopping veges.\n",
      "  \n",
      "  Per serving (excluding unknown items ): 258 Calories, 3g Fat, 4 Proteins, 2-1/2\n",
      "  cups flour\n",
      "  and whipped cream and whisk in the melted butter\n",
      " \n",
      "  Information, Misc britis\n",
      "      Yield: 10 Servings\n",
      " \n",
      "      2 md Onions coarsely. +++++++++++++++++++++++++++++++++++++++\n",
      "  ++++++++++++++++++++++++++++++++++++++++++++++++++++++++++++++\n",
      "  ++++++++++++++++++++++++++++++++++++++++++++++++++++++++++++++++++++++++++++++++++++++++++++++\n",
      "  ++++++++++++ +++\n",
      "  \n",
      "  Mix all ingredient in Puerto Rican Cookery   ISBN 0-88289-411-0\n",
      "  \n",
      "  From the recipe is presumably the black mustard\n",
      "    1/4 ts Salt\n",
      "      2 tb Chopped fresh tarragon,fine chopped\n",
      "      2 ts White pepper\n",
      " \n",
      "  Soak chicken pieces all around than top of bag securely anchored to steak. Combine the remaining 1/2 teaspoons instant to\n",
      "               - (from 3 lb pheasants)\n",
      "      2    Tomato, chopped\n",
      "    3/4 c  Corn sugar\n",
      "  1 3/4 c  Flour\n",
      "  3 3/4 c  Sweetened cocoa\n",
      "      4    Milk (4-5 tbs)\n",
      "      1 c  -Water\n",
      "      2 tb Cilantro, fresh mint sprigs.\n",
      " \n",
      "\n",
      " \n",
      "\n"
     ]
    }
   ],
   "source": [
    "n=12\n",
    "generated_recipe = generate_recipe(char_models[n], \"~\"*(n-1), n)\n",
    "print(generated_recipe)"
   ]
  },
  {
   "cell_type": "markdown",
   "metadata": {},
   "source": [
    "Baked onion with chemicals, yummy."
   ]
  },
  {
   "cell_type": "code",
   "execution_count": 1431,
   "metadata": {},
   "outputs": [
    {
     "name": "stdout",
     "output_type": "stream",
     "text": [
      "~~~~~~~~~~~\n",
      " \n",
      "      Title: CORNY STUFFED PEPPERS & TOMATO CREAM\n",
      " Categories: Fruits, Candies\n",
      "      Yield: 1 Cake\n",
      " \n",
      "           Recipe\n",
      " \n",
      "  1 1/2 lb Fresh Asparagus is tender-crisp. Add vegetables and Lemon Rind; Grated\n",
      "    1/3 c  Rasted pepitas or hulled\n",
      "    1/2 ts Dijon mustard\n",
      "  green.\n",
      "  \n",
      "  Wash the squash in a 350F oven, covered, 3-5 minutes, then reduce heat, and simmer for 10 minutes, stirring constantly; cool\n",
      "  mixture and bay leaves. Mix well. Spoon this over rice.  Bake for 1 hour or until fish just flakes when poked\n",
      "  with various meat stuffings either! I got the\n",
      "  recipe calls for pimiento-\n",
      "           Mayonaise\n",
      "    1/2 ts oregano\n",
      "            -Stuffing Mix\n",
      "      4 c  Tomato sauce\n",
      "           -cut into pieces approximately 360F and carefully to remove the meat from marinade and 2 tablespoons marinade. Grill chicken,\n",
      "  turning the basic stuff,\n",
      "  unembellished\n",
      "  it somewhat (don't expect it\n",
      "  to be slightly so they don't burn. (Traditionally the heart-shaped (or similar bowl, stir together the tofu (as in the order given. Roll out pizza dough.  Roll out the dough\n",
      "  comes to a full rolling\n",
      "  pin. Mix together the dressing by combining them. Add the Thai chile. Stir\n",
      "     melted\n",
      "      1 md Green pepper, diced\n",
      "      2    Egg yolks\n",
      "      8    Egg whites\n",
      "      1 oz Turmeric\n",
      "    1/2 ts White pepper\n",
      "      8 oz Plain nonfat yogurt\n",
      "      1 c  Cranberries\n",
      "  and 4 grams fat, .75 gram\n",
      "  carbohydrate, 29 g fat\n",
      "  (11%), 1.5g fiber, 117mg chol, 544 mg Na. From the\n",
      "  Bengal Region\"\n",
      " \n",
      "\n",
      " \n",
      "\n"
     ]
    }
   ],
   "source": [
    "n=12\n",
    "generated_recipe = generate_recipe(char_models[n], \"~\"*(n-1), n)\n",
    "print(generated_recipe)"
   ]
  },
  {
   "cell_type": "markdown",
   "metadata": {},
   "source": [
    "Well, the generated recipes are not perfect but they are also not bad. \n",
    "They start with a title, categories an 'yield'. Than the ingrediants and then the instructions. Sometimes there is \\n in the middle of the sentence and suddenly the instructions become a list of ingredients. But overall, most words are existing words, the spacing is good, and on first glance it can look like a real recipe. Until you start to read the instructions and they don't make much sense.\n",
    "\n",
    "We can keep generating recipes and pick only the best ones, and choose a better stop criteria."
   ]
  },
  {
   "cell_type": "markdown",
   "metadata": {},
   "source": [
    "## Part 2: Polynomial Curve Fitting"
   ]
  },
  {
   "cell_type": "markdown",
   "metadata": {},
   "source": [
    "### 2.1 Synthetic Dataset Generation\n"
   ]
  },
  {
   "cell_type": "code",
   "execution_count": 636,
   "metadata": {
    "collapsed": true
   },
   "outputs": [],
   "source": [
    "import math\n",
    "import numpy as np"
   ]
  },
  {
   "cell_type": "code",
   "execution_count": 976,
   "metadata": {
    "collapsed": true
   },
   "outputs": [],
   "source": [
    "def noise(x, f, sigma):\n",
    "    \"\"\"adds Gaussian noise N(0, sigma) noise to a vector\"\"\"\n",
    "    return np.vectorize(f)(x) + np.array([(sigma * np.random.randn()) for i in range(len(x))]) \n",
    "\n",
    "def generateDataset(N, f, sigma):    \n",
    "    x = np.linspace(0, 1, N)\n",
    "    t = noise(x, f, sigma)\n",
    "    \n",
    "    return (x, t)"
   ]
  },
  {
   "cell_type": "code",
   "execution_count": 977,
   "metadata": {
    "collapsed": true
   },
   "outputs": [],
   "source": [
    "def sin2pi(x): return math.sin(2 * math.pi * x)"
   ]
  },
  {
   "cell_type": "code",
   "execution_count": 1285,
   "metadata": {
    "collapsed": true
   },
   "outputs": [],
   "source": [
    "N = 100\n",
    "x, t = generateDataset(N, sin2pi, 0.03)"
   ]
  },
  {
   "cell_type": "markdown",
   "metadata": {},
   "source": [
    "We generated a function (sin(2pix)) with some noise"
   ]
  },
  {
   "cell_type": "code",
   "execution_count": 1286,
   "metadata": {},
   "outputs": [
    {
     "data": {
      "text/plain": [
       "<matplotlib.collections.PathCollection at 0x14781afb518>"
      ]
     },
     "execution_count": 1286,
     "metadata": {},
     "output_type": "execute_result"
    },
    {
     "data": {
      "image/png": "[encoded data removed]",
      "text/plain": [
       "<matplotlib.figure.Figure at 0x14781a8a828>"
      ]
     },
     "metadata": {},
     "output_type": "display_data"
    }
   ],
   "source": [
    "plt.scatter(x, t, s=80, facecolors='none',  edgecolors='b')"
   ]
  },
  {
   "cell_type": "markdown",
   "metadata": {},
   "source": [
    "I think the noise is more noticeble in a regular plot:"
   ]
  },
  {
   "cell_type": "code",
   "execution_count": 1287,
   "metadata": {},
   "outputs": [
    {
     "data": {
      "text/plain": [
       "[<matplotlib.lines.Line2D at 0x14781b87898>]"
      ]
     },
     "execution_count": 1287,
     "metadata": {},
     "output_type": "execute_result"
    },
    {
     "data": {
      "image/png": "[encoded data removed]",
      "text/plain": [
       "<matplotlib.figure.Figure at 0x14781b18160>"
      ]
     },
     "metadata": {},
     "output_type": "display_data"
    }
   ],
   "source": [
    "plt.plot(x, t)"
   ]
  },
  {
   "cell_type": "markdown",
   "metadata": {},
   "source": [
    "### 2.2 Polynomial Curve Fitting\n"
   ]
  },
  {
   "cell_type": "markdown",
   "metadata": {},
   "source": [
    "We will attempt to learn the function y given a synthetic dataset (x, t). We will assume that y is a polinom of degree M and try to learn the sin(2pix) function."
   ]
  },
  {
   "cell_type": "code",
   "execution_count": 981,
   "metadata": {
    "collapsed": true
   },
   "outputs": [],
   "source": [
    "def polynom(val, M):\n",
    "    return np.array([val**i for i in range(M+1)])"
   ]
  },
  {
   "cell_type": "code",
   "execution_count": 982,
   "metadata": {
    "collapsed": true
   },
   "outputs": [],
   "source": [
    "def OptimizeLS(x, t, M):\n",
    "    cols = M+1\n",
    "    rows = len(t)\n",
    "    \n",
    "    phi = np.array([polynom(x[i], M) for i in range(rows)])\n",
    "    prod = np.dot(phi.T, phi) \n",
    "    m = np.dot(np.linalg.inv(prod), phi.T)   \n",
    "    w = np.dot(m, t)\n",
    "    return w"
   ]
  },
  {
   "cell_type": "code",
   "execution_count": 983,
   "metadata": {
    "collapsed": true
   },
   "outputs": [],
   "source": [
    "def reverseOptimizeLS(x, t, M):\n",
    "    return OptimizeLS(x, t, M)[::-1] #reverse the coefficiants"
   ]
  },
  {
   "cell_type": "code",
   "execution_count": 1455,
   "metadata": {
    "collapsed": true
   },
   "outputs": [],
   "source": [
    "def plot_polyfit(x, t, degs, org_func, polyfit_func):\n",
    "    \"\"\"\n",
    "    Plots the original function, x points against org_func(x) with noise, xpoints against predicted polynoms\n",
    "    with different degrees \n",
    "    \"\"\"\n",
    "    \n",
    "    colors = ['b', 'g', 'r', 'c', 'm', 'y', 'k']\n",
    "    \n",
    "    x_sin = np.linspace(0, 1, 101)\n",
    "    plt.plot(x_sin, [org_func(xi) for xi in x_sin], c=colors[0])#original function\n",
    "    plt.scatter(x, t , s=80, facecolors='none',  edgecolors=colors[1])#noisy function\n",
    "    \n",
    "    for i, M in enumerate(degs, 2):\n",
    "        w = polyfit_func(x, t, M)\n",
    "        p = np.poly1d(w)\n",
    "        y = np.array([p(x[j]) for j in range(len(x))])\n",
    "        plt.scatter(x,y, marker='.', c=colors[i])#polynoms\n",
    "        \n",
    "    plt.legend(['sin(2px)', 'noisy sin(2px)']+['M='+str(M) for M in degs], loc='upper right')\n",
    "    "
   ]
  },
  {
   "cell_type": "code",
   "execution_count": 1123,
   "metadata": {
    "scrolled": false
   },
   "outputs": [
    {
     "data": {
      "image/png": "[encoded data removed]",
      "text/plain": [
       "<matplotlib.figure.Figure at 0x146c6f0cf60>"
      ]
     },
     "metadata": {},
     "output_type": "display_data"
    }
   ],
   "source": [
    "N = 11\n",
    "x, t = generateDataset(N, sin2pi, 0.03)\n",
    "degs = [1, 3, 5, 10]\n",
    "plot_polyfit(x, t, degs, sin2pi, reverseOptimizeLS)"
   ]
  },
  {
   "cell_type": "markdown",
   "metadata": {},
   "source": [
    "We can observe that the polynomial function with M=1 does not estimate well the sin(2px) function, which makes sense as it is a linear function.\n",
    "M=3 is very close, and for M>=5 it seems like the coefficiants became finely tuned to the noisy sin(2px) function. "
   ]
  },
  {
   "cell_type": "markdown",
   "metadata": {},
   "source": [
    "### 2.3 Polynomial Curve Fitting with Regularization\n"
   ]
  },
  {
   "cell_type": "markdown",
   "metadata": {},
   "source": [
    "To solve this overfitting we observed, we can try to pick the best order of a ploynom, or we can use regularization. It involves adding a penalty term to the error function in order to discourage\n",
    "the coefficients from reaching large values"
   ]
  },
  {
   "cell_type": "markdown",
   "metadata": {},
   "source": [
    "First, we need a training, dev and test data which will help us choose the penalty (lambda). \n",
    "\n",
    "To construct a development set, we will extend our synthetic dataset construction function to return 3 samples: one for training, one for development and one for testing."
   ]
  },
  {
   "cell_type": "code",
   "execution_count": 1456,
   "metadata": {
    "collapsed": true
   },
   "outputs": [],
   "source": [
    "def generateDataset3(N, f, sigma):\n",
    "    \"\"\"\n",
    "    returns 3 pairs of vectors of size N each, \n",
    "    (xtest, ttest), (xvalidate, tvalidate) and (xtrain, ttrain).\n",
    "    The target values are generated with Gaussian noise N(0, sigma).\n",
    "    \"\"\"\n",
    "    x = np.linspace(0, 1, 3*N)\n",
    "    np.random.shuffle(x)\n",
    "    \n",
    "    xtrain = x[:N]\n",
    "    xtrain.sort()\n",
    "    ttrain = noise(xtrain, f, sigma)\n",
    "    \n",
    "    xdev = x[N:2*N]\n",
    "    xdev.sort()\n",
    "    tdev = noise(xdev, f, sigma)\n",
    "    \n",
    "    xtest = x[2*N:]\n",
    "    xtest.sort()\n",
    "    ttest = noise(xtest, f, sigma)\n",
    "    \n",
    "    return (xtrain, ttrain), (xdev, tdev), (xtest, ttest)"
   ]
  },
  {
   "cell_type": "markdown",
   "metadata": {},
   "source": [
    "Lets see what we get"
   ]
  },
  {
   "cell_type": "code",
   "execution_count": 1110,
   "metadata": {},
   "outputs": [
    {
     "data": {
      "text/plain": [
       "[<matplotlib.lines.Line2D at 0x146c6875198>]"
      ]
     },
     "execution_count": 1110,
     "metadata": {},
     "output_type": "execute_result"
    },
    {
     "data": {
      "image/png": "[encoded data removed]",
      "text/plain": [
       "<matplotlib.figure.Figure at 0x146c6719f28>"
      ]
     },
     "metadata": {},
     "output_type": "display_data"
    }
   ],
   "source": [
    "N = 101\n",
    "(xtrain, ttrain), (xdev, tdev), (xtest, ttest) = generateDataset3(N, sin2pi, 0.03)\n",
    "\n",
    "plt.plot(xtrain, ttrain)"
   ]
  },
  {
   "cell_type": "markdown",
   "metadata": {},
   "source": [
    "Now, we will change the OptimizePls function to return optimal parameters w_PLS given M and lambda."
   ]
  },
  {
   "cell_type": "code",
   "execution_count": 1457,
   "metadata": {
    "collapsed": true
   },
   "outputs": [],
   "source": [
    "def optimizePLS(x, t, M, lam):\n",
    "    \"\"\"\n",
    "    returns the optimal parameters wPLS given M and lambda\n",
    "    \"\"\"\n",
    "    cols = M+1\n",
    "    rows = len(t)\n",
    "    \n",
    "    phi = np.array([polynom(x[i], M) for i in range(rows)])\n",
    "    prod = np.dot(phi.T, phi) \n",
    "    \n",
    "    m = np.dot(np.linalg.inv(prod + np.identity(M+1)*lam), phi.T)   \n",
    "    w = np.dot(m, t)\n",
    "    return w"
   ]
  },
  {
   "cell_type": "markdown",
   "metadata": {},
   "source": [
    "We will try and optimize the value of λ by varying the value of ln(λ) from -40 to -20 on the development set."
   ]
  },
  {
   "cell_type": "code",
   "execution_count": 1111,
   "metadata": {
    "collapsed": true
   },
   "outputs": [],
   "source": [
    "def norm_error(x, t, y):\n",
    "    \"\"\"return the normalized error of t against y\"\"\"\n",
    "    diff = t-y\n",
    "    return math.sqrt(sum(elem**2 for elem in diff))/len(x)"
   ]
  },
  {
   "cell_type": "code",
   "execution_count": 1011,
   "metadata": {
    "collapsed": true
   },
   "outputs": [],
   "source": [
    "def norm_errors(x, t, polynoms):\n",
    "    \"\"\"return normalized errors of t against y for each y=p(x) in polynoms\"\"\"\n",
    "    norm_errors = []\n",
    "    for p in polynoms:\n",
    "        y = np.array([p(x[j]) for j in range(len(x))])\n",
    "        norm_errors.append(norm_error(x, t, y))\n",
    "    return norm_errors"
   ]
  },
  {
   "cell_type": "code",
   "execution_count": 1276,
   "metadata": {
    "collapsed": true
   },
   "outputs": [],
   "source": [
    "def plot_errors(N):\n",
    "    (xtrain, ttrain), (xdev, tdev), (xtest, ttest) = generateDataset3(N, sin2pi, 0.03)\n",
    "\n",
    "    lambdas = [1/math.exp(i) for i in range(40, 19, -5)]\n",
    "    ln_lambdas = list(range(-40, -19, 5))\n",
    "    M = 9\n",
    "\n",
    "    polynoms = []\n",
    "\n",
    "    for lam in lambdas:\n",
    "        w = optimizePLS(xtrain, ttrain, M, lam)\n",
    "        p = np.poly1d(w[::-1])\n",
    "        polynoms.append(p)\n",
    "\n",
    "    plt.plot(ln_lambdas, norm_errors(xtrain, ttrain, polynoms))\n",
    "    plt.plot(ln_lambdas, norm_errors(xdev, tdev, polynoms))\n",
    "    plt.plot(ln_lambdas, norm_errors(xtest, ttest, polynoms))\n",
    "    plt.legend(['train', 'dev', 'test'], loc='upper right')\n",
    "    plt.xlabel(\"ln(λ)\")\n",
    "    plt.ylabel(\"error\")"
   ]
  },
  {
   "cell_type": "code",
   "execution_count": 1280,
   "metadata": {},
   "outputs": [
    {
     "data": {
      "image/png": "[encoded data removed]",
      "text/plain": [
       "<matplotlib.figure.Figure at 0x14781798208>"
      ]
     },
     "metadata": {},
     "output_type": "display_data"
    }
   ],
   "source": [
    "N = 11\n",
    "plot_errors(N)"
   ]
  },
  {
   "cell_type": "markdown",
   "metadata": {},
   "source": [
    "The error on the train dataset is very low and pretty constant, which makes sense because we created a polynom that fits best to the train data.\n",
    "\n",
    "The error on the test and dev data decreases as λ is larger. For λ=-20 the overfitting has been supressed"
   ]
  },
  {
   "cell_type": "code",
   "execution_count": 1282,
   "metadata": {},
   "outputs": [
    {
     "data": {
      "image/png": "[encoded data removed]",
      "text/plain": [
       "<matplotlib.figure.Figure at 0x147811e10f0>"
      ]
     },
     "metadata": {},
     "output_type": "display_data"
    }
   ],
   "source": [
    "N = 101\n",
    "plot_errors(N)"
   ]
  },
  {
   "cell_type": "markdown",
   "metadata": {},
   "source": [
    "In this graph we can observe a similar trend. Although the error and the decrease of error in the dev and test datasets is much smaller."
   ]
  },
  {
   "cell_type": "markdown",
   "metadata": {},
   "source": [
    "Now we will write a function that chooses λ that gives the smallest error on the dev dataset"
   ]
  },
  {
   "cell_type": "code",
   "execution_count": 1283,
   "metadata": {
    "collapsed": true
   },
   "outputs": [],
   "source": [
    "def optimizePLS2(xt, tt, xv, tv, M):\n",
    "    \"\"\"\n",
    "    Selects the best value λ given a dataset for training (xt, tt) and a development test (xv, tv)\n",
    "    \"\"\"\n",
    "    lambdas = [1/math.exp(i) for i in range(40, 19, -5)]\n",
    "    ln_lambdas = list(range(-40, -19, 5))\n",
    "\n",
    "    polynoms = []\n",
    "\n",
    "    for lam in lambdas:\n",
    "        w = optimizePLS(xt, tt, M, lam)\n",
    "        p = np.poly1d(w[::-1])\n",
    "        polynoms.append(p)\n",
    "        \n",
    "    lam_index = np.argmin(norm_errors(xv, tv, polynoms))\n",
    "    return ln_lambdas[lam_index]"
   ]
  },
  {
   "cell_type": "code",
   "execution_count": 1101,
   "metadata": {},
   "outputs": [
    {
     "data": {
      "text/plain": [
       "-20"
      ]
     },
     "execution_count": 1101,
     "metadata": {},
     "output_type": "execute_result"
    }
   ],
   "source": [
    "N = 11\n",
    "(xtrain, ttrain), (xdev, tdev), (xtest, ttest) = generateDataset3(N, sin2pi, 0.03)\n",
    "M = 9 \n",
    "optimizePLS2(xtrain, ttrain, xdev, tdev, M)"
   ]
  },
  {
   "cell_type": "markdown",
   "metadata": {},
   "source": [
    "Indeed as shown in the graph, the best λ is -20. We will use this λ to find w that best fits our dataset and see how it looks."
   ]
  },
  {
   "cell_type": "code",
   "execution_count": 1104,
   "metadata": {},
   "outputs": [
    {
     "data": {
      "text/plain": [
       "[<matplotlib.lines.Line2D at 0x146c5b46e10>]"
      ]
     },
     "execution_count": 1104,
     "metadata": {},
     "output_type": "execute_result"
    },
    {
     "data": {
      "image/png": "[encoded data removed]",
      "text/plain": [
       "<matplotlib.figure.Figure at 0x146c5fe00b8>"
      ]
     },
     "metadata": {},
     "output_type": "display_data"
    }
   ],
   "source": [
    "M=9\n",
    "w = optimizePLS(xtrain, ttrain, M, 1/math.exp(20))\n",
    "p = np.poly1d(w[::-1])\n",
    "ytest = np.array([p(xtest[j]) for j in range(len(xtest))])\n",
    "plt.plot(xtest, [sin2pi(xi) for xi in xtest])\n",
    "plt.plot(xtest, ytest)"
   ]
  },
  {
   "cell_type": "markdown",
   "metadata": {},
   "source": [
    "We can see that with M=9 and ln(lambda)=-20 our polynom is a good representation of the function sin(2pix) "
   ]
  },
  {
   "cell_type": "markdown",
   "metadata": {},
   "source": [
    "### 2.4 Probabilistic Regression Framework"
   ]
  },
  {
   "cell_type": "markdown",
   "metadata": {},
   "source": [
    "We further extend the probabilistic model by considering a Bayesian approach to the estimation of this probabilistic model instead of the maximum likelihood estimator (which is known to over-fit the dataset). "
   ]
  },
  {
   "cell_type": "markdown",
   "metadata": {},
   "source": [
    "In the Bayesian approach, we do not learn an optimal value for the parameter w, but instead, marginalize out this parameter and directly learn the predictive distribution."
   ]
  },
  {
   "cell_type": "code",
   "execution_count": 1274,
   "metadata": {
    "collapsed": true
   },
   "outputs": [],
   "source": [
    "def bayesianEstimator(x, t, M, alpha, sigma2):\n",
    "    \"\"\"\n",
    "    Given the dataset (x, t) of size N, and the parameters M, alpha, and sigma2 (the variance),\n",
    "    this function returns a tuple of 2 functions (m(x) var(x)) which are the mean and variance\n",
    "    of the predictive distribution inferred from the dataset, based on the parameters and the\n",
    "    normal prior over w.\n",
    "    \"\"\"\n",
    "    N = len(x)\n",
    "\n",
    "    #inv(S)\n",
    "    prod_mat = np.zeros((M+1, M+1))\n",
    "    for i in range(N):\n",
    "        phi_xi = polynom(x[i], M)\n",
    "        prod_mat += np.outer(phi_xi, phi_xi.T)\n",
    "    S_inv = alpha * np.eye(M+1) + prod_mat/sigma2\n",
    "\n",
    "    S = np.linalg.inv(S_inv)\n",
    "        \n",
    "    def m(new_x):\n",
    "        phi_t = polynom(new_x, M).T \n",
    "        rsum = np.zeros(M+1)\n",
    "        for i in range(N):\n",
    "            rsum += polynom(x[i], M)*t[i]\n",
    "        phi_tS = np.dot(phi_t, S)\n",
    "        return np.dot(phi_tS, rsum)/sigma2\n",
    "\n",
    "    def var(new_x):\n",
    "        phi_x = polynom(new_x, M)\n",
    "        prod = np.dot(np.dot(phi_x.T, S), phi_x)\n",
    "        return sigma2 + prod\n",
    "        \n",
    "    return (m, var)"
   ]
  },
  {
   "cell_type": "code",
   "execution_count": 1251,
   "metadata": {
    "collapsed": true
   },
   "outputs": [],
   "source": [
    "def plotBayesianEstimator(N):\n",
    "    (xtrain, ttrain), (xdev, tdev), (xtest, ttest) = generateDataset3(N, sin2pi, 0.03)\n",
    "    M = 9\n",
    "    alpha = 0.005\n",
    "    sigma2 = 1/11.1\n",
    "\n",
    "    m, var = bayesianEstimator(xtrain, ttrain, M, alpha, sigma2)\n",
    "\n",
    "    plt.figure(figsize=(8, 6))\n",
    "    x_sin = np.linspace(0, 1, 101)\n",
    "    \n",
    "    #mean plot\n",
    "    plt.plot(xtest, [m(xi) for xi in xtest], c='r')\n",
    "    #confidence interval\n",
    "    plt.fill_between(xtest, [m(xi)-math.sqrt(var(xi)) for xi in xtest],  [m(xi)+math.sqrt(var(xi)) for xi in xtest], color='r',\n",
    "                            alpha=0.2)\n",
    "    #train data scatter plot\n",
    "    plt.scatter(xtrain, ttrain, s=50, facecolors='none',  edgecolors='b')\n",
    "    #sin2px plot\n",
    "    plt.plot(x_sin, [sin2pi(xi) for xi in x_sin], c='g')\n",
    "    \n",
    "    plt.legend(['Mean', \"sin(2pix)\", \"Confidence interval\", \"Train data\"], loc='upper right')"
   ]
  },
  {
   "cell_type": "code",
   "execution_count": 1275,
   "metadata": {
    "scrolled": true
   },
   "outputs": [
    {
     "data": {
      "image/png": "[encoded data removed]",
      "text/plain": [
       "<matplotlib.figure.Figure at 0x14781497c50>"
      ]
     },
     "metadata": {},
     "output_type": "display_data"
    }
   ],
   "source": [
    "N = 101\n",
    "plotBayesianEstimator(N)"
   ]
  },
  {
   "cell_type": "markdown",
   "metadata": {},
   "source": [
    "In this graph we can see that the mean is really close to the original function sin(2pix)"
   ]
  },
  {
   "cell_type": "code",
   "execution_count": 1256,
   "metadata": {
    "scrolled": true
   },
   "outputs": [
    {
     "data": {
      "image/png": "[encoded data removed]",
      "text/plain": [
       "<matplotlib.figure.Figure at 0x1476f666fd0>"
      ]
     },
     "metadata": {},
     "output_type": "display_data"
    }
   ],
   "source": [
    "N = 11\n",
    "plotBayesianEstimator(N)"
   ]
  },
  {
   "cell_type": "markdown",
   "metadata": {},
   "source": [
    "In the case where N=11, the height of the confidence interval is larger as we have less data points to learn from."
   ]
  },
  {
   "cell_type": "markdown",
   "metadata": {},
   "source": [
    "The height of the band can vary by the density of the sampled data points. For some interval that contains many points, the variance should be smaller leading to a small band height. On the other hand, for an interval with only a few points the variance should be higher leading to a large band height."
   ]
  }
 ],
 "metadata": {
  "kernelspec": {
   "display_name": "Python 3",
   "language": "python",
   "name": "python3"
  },
  "language_info": {
   "codemirror_mode": {
    "name": "ipython",
    "version": 3
   },
   "file_extension": ".py",
   "mimetype": "text/x-python",
   "name": "python",
   "nbconvert_exporter": "python",
   "pygments_lexer": "ipython3",
   "version": "3.6.4"
  }
 },
 "nbformat": 4,
 "nbformat_minor": 2
}
